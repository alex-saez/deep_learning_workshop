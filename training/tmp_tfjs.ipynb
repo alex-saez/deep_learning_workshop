{
 "cells": [
  {
   "cell_type": "code",
   "execution_count": null,
   "metadata": {
    "ExecuteTime": {
     "start_time": "2018-07-09T02:24:01.561Z"
    }
   },
   "outputs": [],
   "source": [
    "!pip install tensorflowjs==0.5.0\n"
   ]
  },
  {
   "cell_type": "code",
   "execution_count": 1,
   "metadata": {
    "ExecuteTime": {
     "end_time": "2018-07-09T03:29:09.537585Z",
     "start_time": "2018-07-09T03:29:01.002442Z"
    }
   },
   "outputs": [
    {
     "name": "stderr",
     "output_type": "stream",
     "text": [
      "/usr/local/anaconda3/envs/tf/lib/python3.6/site-packages/h5py/__init__.py:36: FutureWarning: Conversion of the second argument of issubdtype from `float` to `np.floating` is deprecated. In future, it will be treated as `np.float64 == np.dtype(float).type`.\n",
      "  from ._conv import register_converters as _register_converters\n",
      "Using TensorFlow backend.\n"
     ]
    }
   ],
   "source": [
    "import os\n",
    "import shutil\n",
    "import hashlib\n",
    "import urllib.request\n",
    "import numpy as np\n",
    "\n",
    "import keras\n",
    "\n",
    "import tensorflowjs as tfjs\n"
   ]
  },
  {
   "cell_type": "code",
   "execution_count": null,
   "metadata": {},
   "outputs": [],
   "source": []
  },
  {
   "cell_type": "code",
   "execution_count": 2,
   "metadata": {
    "ExecuteTime": {
     "end_time": "2018-07-09T03:29:11.565168Z",
     "start_time": "2018-07-09T03:29:11.561917Z"
    }
   },
   "outputs": [],
   "source": [
    "def load_keras_model(model_path):\n",
    "    with keras.utils.generic_utils.CustomObjectScope({'relu6': keras.applications.mobilenet.relu6,'DepthwiseConv2D': keras.applications.mobilenet.DepthwiseConv2D}):\n",
    "        keras_model =  keras.models.load_model(model_path)\n",
    "    return keras_model"
   ]
  },
  {
   "cell_type": "code",
   "execution_count": 3,
   "metadata": {
    "ExecuteTime": {
     "end_time": "2018-07-09T03:29:16.004362Z",
     "start_time": "2018-07-09T03:29:15.993450Z"
    }
   },
   "outputs": [],
   "source": [
    "ARTIFACT_FOLDER='tfjs_artifacts'\n",
    "shutil.rmtree(ARTIFACT_FOLDER,ignore_errors=True)\n",
    "os.makedirs(ARTIFACT_FOLDER, exist_ok=True)"
   ]
  },
  {
   "cell_type": "code",
   "execution_count": 10,
   "metadata": {
    "ExecuteTime": {
     "end_time": "2018-07-09T04:18:02.476087Z",
     "start_time": "2018-07-09T04:17:57.212492Z"
    }
   },
   "outputs": [],
   "source": [
    "keras_model = load_keras_model('dog_breed.h5')"
   ]
  },
  {
   "cell_type": "code",
   "execution_count": null,
   "metadata": {},
   "outputs": [],
   "source": []
  },
  {
   "cell_type": "code",
   "execution_count": 11,
   "metadata": {
    "ExecuteTime": {
     "end_time": "2018-07-09T04:18:06.575787Z",
     "start_time": "2018-07-09T04:18:03.867135Z"
    }
   },
   "outputs": [],
   "source": [
    "tfjs.converters.save_keras_model(\n",
    "    model = keras_model, \n",
    "    artifacts_dir=ARTIFACT_FOLDER)"
   ]
  },
  {
   "cell_type": "code",
   "execution_count": 12,
   "metadata": {
    "ExecuteTime": {
     "end_time": "2018-07-09T04:18:06.580623Z",
     "start_time": "2018-07-09T04:18:06.577618Z"
    }
   },
   "outputs": [],
   "source": [
    "with open('labels.txt') as f:\n",
    "    labels = f.read().splitlines()"
   ]
  },
  {
   "cell_type": "code",
   "execution_count": 13,
   "metadata": {
    "ExecuteTime": {
     "end_time": "2018-07-09T04:18:32.931290Z",
     "start_time": "2018-07-09T04:18:32.928258Z"
    }
   },
   "outputs": [],
   "source": [
    "labels_dict = {idx:label for (idx,label) in enumerate(labels)}"
   ]
  },
  {
   "cell_type": "code",
   "execution_count": 14,
   "metadata": {
    "ExecuteTime": {
     "end_time": "2018-07-09T04:18:34.021042Z",
     "start_time": "2018-07-09T04:18:34.014864Z"
    }
   },
   "outputs": [
    {
     "data": {
      "text/plain": [
       "{0: 'scottish_deerhound',\n",
       " 1: 'maltese_dog',\n",
       " 2: 'afghan_hound',\n",
       " 3: 'entlebucher',\n",
       " 4: 'bernese_mountain_dog',\n",
       " 5: 'shih-tzu',\n",
       " 6: 'great_pyrenees',\n",
       " 7: 'pomeranian',\n",
       " 8: 'basenji',\n",
       " 9: 'samoyed',\n",
       " 10: 'airedale',\n",
       " 11: 'tibetan_terrier',\n",
       " 12: 'leonberg',\n",
       " 13: 'cairn',\n",
       " 14: 'beagle',\n",
       " 15: 'japanese_spaniel',\n",
       " 16: 'australian_terrier',\n",
       " 17: 'blenheim_spaniel',\n",
       " 18: 'miniature_pinscher',\n",
       " 19: 'irish_wolfhound',\n",
       " 20: 'lakeland_terrier',\n",
       " 21: 'saluki',\n",
       " 22: 'papillon',\n",
       " 23: 'whippet',\n",
       " 24: 'siberian_husky',\n",
       " 25: 'norwegian_elkhound',\n",
       " 26: 'pug',\n",
       " 27: 'chow',\n",
       " 28: 'italian_greyhound',\n",
       " 29: 'pembroke',\n",
       " 30: 'ibizan_hound',\n",
       " 31: 'border_terrier',\n",
       " 32: 'newfoundland',\n",
       " 33: 'lhasa',\n",
       " 34: 'silky_terrier',\n",
       " 35: 'bedlington_terrier',\n",
       " 36: 'dandie_dinmont',\n",
       " 37: 'irish_setter',\n",
       " 38: 'sealyham_terrier',\n",
       " 39: 'rhodesian_ridgeback',\n",
       " 40: 'old_english_sheepdog',\n",
       " 41: 'collie',\n",
       " 42: 'boston_bull',\n",
       " 43: 'english_foxhound',\n",
       " 44: 'bouvier_des_flandres',\n",
       " 45: 'african_hunting_dog',\n",
       " 46: 'schipperke',\n",
       " 47: 'kelpie',\n",
       " 48: 'weimaraner',\n",
       " 49: 'bloodhound',\n",
       " 50: 'bluetick',\n",
       " 51: 'saint_bernard',\n",
       " 52: 'labrador_retriever',\n",
       " 53: 'chesapeake_bay_retriever',\n",
       " 54: 'norfolk_terrier',\n",
       " 55: 'english_setter',\n",
       " 56: 'wire-haired_fox_terrier',\n",
       " 57: 'kerry_blue_terrier',\n",
       " 58: 'scotch_terrier',\n",
       " 59: 'yorkshire_terrier',\n",
       " 60: 'groenendael',\n",
       " 61: 'greater_swiss_mountain_dog',\n",
       " 62: 'irish_terrier',\n",
       " 63: 'basset',\n",
       " 64: 'keeshond',\n",
       " 65: 'west_highland_white_terrier',\n",
       " 66: 'gordon_setter',\n",
       " 67: 'malamute',\n",
       " 68: 'affenpinscher',\n",
       " 69: 'toy_poodle',\n",
       " 70: 'clumber',\n",
       " 71: 'mexican_hairless',\n",
       " 72: 'dingo',\n",
       " 73: 'standard_poodle',\n",
       " 74: 'miniature_poodle',\n",
       " 75: 'staffordshire_bullterrier',\n",
       " 76: 'welsh_springer_spaniel',\n",
       " 77: 'toy_terrier',\n",
       " 78: 'sussex_spaniel',\n",
       " 79: 'norwich_terrier',\n",
       " 80: 'appenzeller',\n",
       " 81: 'irish_water_spaniel',\n",
       " 82: 'miniature_schnauzer',\n",
       " 83: 'black-and-tan_coonhound',\n",
       " 84: 'cardigan',\n",
       " 85: 'dhole',\n",
       " 86: 'shetland_sheepdog',\n",
       " 87: 'rottweiler',\n",
       " 88: 'english_springer',\n",
       " 89: 'great_dane',\n",
       " 90: 'german_short-haired_pointer',\n",
       " 91: 'boxer',\n",
       " 92: 'bull_mastiff',\n",
       " 93: 'borzoi',\n",
       " 94: 'pekinese',\n",
       " 95: 'cocker_spaniel',\n",
       " 96: 'american_staffordshire_terrier',\n",
       " 97: 'doberman',\n",
       " 98: 'brittany_spaniel',\n",
       " 99: 'malinois',\n",
       " 100: 'standard_schnauzer',\n",
       " 101: 'flat-coated_retriever',\n",
       " 102: 'redbone',\n",
       " 103: 'border_collie',\n",
       " 104: 'curly-coated_retriever',\n",
       " 105: 'kuvasz',\n",
       " 106: 'chihuahua',\n",
       " 107: 'soft-coated_wheaten_terrier',\n",
       " 108: 'french_bulldog',\n",
       " 109: 'vizsla',\n",
       " 110: 'tibetan_mastiff',\n",
       " 111: 'german_shepherd',\n",
       " 112: 'giant_schnauzer',\n",
       " 113: 'walker_hound',\n",
       " 114: 'otterhound',\n",
       " 115: 'golden_retriever',\n",
       " 116: 'brabancon_griffon',\n",
       " 117: 'komondor',\n",
       " 118: 'briard',\n",
       " 119: 'eskimo_dog'}"
      ]
     },
     "execution_count": 14,
     "metadata": {},
     "output_type": "execute_result"
    }
   ],
   "source": [
    "labels_dict"
   ]
  },
  {
   "cell_type": "code",
   "execution_count": null,
   "metadata": {},
   "outputs": [],
   "source": []
  }
 ],
 "metadata": {
  "kernelspec": {
   "display_name": "Python [conda env:tf]",
   "language": "python",
   "name": "conda-env-tf-py"
  },
  "language_info": {
   "codemirror_mode": {
    "name": "ipython",
    "version": 3
   },
   "file_extension": ".py",
   "mimetype": "text/x-python",
   "name": "python",
   "nbconvert_exporter": "python",
   "pygments_lexer": "ipython3",
   "version": "3.6.5"
  }
 },
 "nbformat": 4,
 "nbformat_minor": 2
}
