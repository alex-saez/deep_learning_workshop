{
 "cells": [
  {
   "cell_type": "code",
   "execution_count": null,
   "metadata": {},
   "outputs": [],
   "source": [
    "# pip install tensorflow==1.9.0rc2 coremltools==0.8 tensorflowjs==0.5.0\n",
    "# pip install tf-nightly==1.10.0.dev20180707\n",
    "# nano /usr/local/anaconda3/envs/tf2/lib/python3.6/site-packages/tensorflow/contrib/lite/python/lite.py"
   ]
  },
  {
   "cell_type": "code",
   "execution_count": null,
   "metadata": {
    "ExecuteTime": {
     "end_time": "2018-07-08T20:54:30.369753Z",
     "start_time": "2018-07-08T20:54:30.367528Z"
    }
   },
   "outputs": [],
   "source": [
    "#pip install coremltools==0.8 Keras==2.1.6 imutils==0.4.6 opencv-python==3.4.1.15\n"
   ]
  },
  {
   "cell_type": "code",
   "execution_count": null,
   "metadata": {},
   "outputs": [],
   "source": []
  },
  {
   "cell_type": "code",
   "execution_count": null,
   "metadata": {
    "ExecuteTime": {
     "end_time": "2018-07-08T20:39:20.128588Z",
     "start_time": "2018-07-08T20:39:20.123862Z"
    }
   },
   "outputs": [],
   "source": [
    "#https://github.com/ianlokh/MobileNet-On-CoreML.git"
   ]
  },
  {
   "cell_type": "code",
   "execution_count": 12,
   "metadata": {
    "ExecuteTime": {
     "end_time": "2018-07-08T21:47:28.942685Z",
     "start_time": "2018-07-08T21:47:28.939862Z"
    }
   },
   "outputs": [],
   "source": [
    "import os\n",
    "import shutil\n",
    "import hashlib\n",
    "import urllib.request\n",
    "import numpy as np\n",
    "\n",
    "import keras\n",
    "import tensorflow as tf\n",
    "import coremltools\n",
    "import tensorflowjs as tfjs\n",
    "from tensorflow.python import keras as tf_keras"
   ]
  },
  {
   "cell_type": "code",
   "execution_count": null,
   "metadata": {
    "ExecuteTime": {
     "end_time": "2018-07-08T21:39:02.650728Z",
     "start_time": "2018-07-08T21:39:02.648265Z"
    }
   },
   "outputs": [],
   "source": [
    "\n",
    "#from keras import backend as K\n",
    "#from keras.models import load_model\n",
    "#from keras.utils.generic_utils import CustomObjectScope\n",
    "#from keras.applications.mobilenet import preprocess_input\n",
    "\n",
    "#from keras.preprocessing import image\n",
    "#from keras.applications.mobilenet import preprocess_input\n",
    "\n"
   ]
  },
  {
   "cell_type": "code",
   "execution_count": null,
   "metadata": {
    "ExecuteTime": {
     "end_time": "2018-07-08T16:07:49.349981Z",
     "start_time": "2018-07-08T16:07:47.491723Z"
    }
   },
   "outputs": [],
   "source": []
  },
  {
   "cell_type": "code",
   "execution_count": null,
   "metadata": {
    "ExecuteTime": {
     "end_time": "2018-07-08T21:05:49.538921Z",
     "start_time": "2018-07-08T21:05:49.402650Z"
    }
   },
   "outputs": [],
   "source": []
  },
  {
   "cell_type": "code",
   "execution_count": null,
   "metadata": {
    "ExecuteTime": {
     "end_time": "2018-07-08T21:39:04.603918Z",
     "start_time": "2018-07-08T21:39:04.475980Z"
    }
   },
   "outputs": [],
   "source": [
    "!ls"
   ]
  },
  {
   "cell_type": "code",
   "execution_count": 1,
   "metadata": {
    "ExecuteTime": {
     "end_time": "2018-07-08T22:09:24.752353Z",
     "start_time": "2018-07-08T22:09:24.745480Z"
    }
   },
   "outputs": [],
   "source": [
    "with open('labels.txt') as f:\n",
    "    labels = f.read().splitlines()"
   ]
  },
  {
   "cell_type": "code",
   "execution_count": 4,
   "metadata": {
    "ExecuteTime": {
     "end_time": "2018-07-08T22:11:24.585661Z",
     "start_time": "2018-07-08T22:11:24.583199Z"
    }
   },
   "outputs": [],
   "source": [
    "labels_dict = {idx:label for (idx,label) in enumerate(labels)}"
   ]
  },
  {
   "cell_type": "code",
   "execution_count": 9,
   "metadata": {
    "ExecuteTime": {
     "end_time": "2018-07-09T00:43:59.006009Z",
     "start_time": "2018-07-09T00:43:58.946332Z"
    },
    "collapsed": true
   },
   "outputs": [
    {
     "data": {
      "text/plain": [
       "{0: 'affenpinscher',\n",
       " 1: 'afghan_hound',\n",
       " 2: 'african_hunting_dog',\n",
       " 3: 'airedale',\n",
       " 4: 'american_staffordshire_terrier',\n",
       " 5: 'appenzeller',\n",
       " 6: 'australian_terrier',\n",
       " 7: 'basenji',\n",
       " 8: 'basset',\n",
       " 9: 'beagle',\n",
       " 10: 'bedlington_terrier',\n",
       " 11: 'bernese_mountain_dog',\n",
       " 12: 'black-and-tan_coonhound',\n",
       " 13: 'blenheim_spaniel',\n",
       " 14: 'bloodhound',\n",
       " 15: 'bluetick',\n",
       " 16: 'border_collie',\n",
       " 17: 'border_terrier',\n",
       " 18: 'borzoi',\n",
       " 19: 'boston_bull',\n",
       " 20: 'bouvier_des_flandres',\n",
       " 21: 'boxer',\n",
       " 22: 'brabancon_griffon',\n",
       " 23: 'briard',\n",
       " 24: 'brittany_spaniel',\n",
       " 25: 'bull_mastiff',\n",
       " 26: 'cairn',\n",
       " 27: 'cardigan',\n",
       " 28: 'chesapeake_bay_retriever',\n",
       " 29: 'chihuahua',\n",
       " 30: 'chow',\n",
       " 31: 'clumber',\n",
       " 32: 'cocker_spaniel',\n",
       " 33: 'collie',\n",
       " 34: 'curly-coated_retriever',\n",
       " 35: 'dandie_dinmont',\n",
       " 36: 'dhole',\n",
       " 37: 'dingo',\n",
       " 38: 'doberman',\n",
       " 39: 'english_foxhound',\n",
       " 40: 'english_setter',\n",
       " 41: 'english_springer',\n",
       " 42: 'entlebucher',\n",
       " 43: 'eskimo_dog',\n",
       " 44: 'flat-coated_retriever',\n",
       " 45: 'french_bulldog',\n",
       " 46: 'german_shepherd',\n",
       " 47: 'german_short-haired_pointer',\n",
       " 48: 'giant_schnauzer',\n",
       " 49: 'golden_retriever',\n",
       " 50: 'gordon_setter',\n",
       " 51: 'great_dane',\n",
       " 52: 'great_pyrenees',\n",
       " 53: 'greater_swiss_mountain_dog',\n",
       " 54: 'groenendael',\n",
       " 55: 'ibizan_hound',\n",
       " 56: 'irish_setter',\n",
       " 57: 'irish_terrier',\n",
       " 58: 'irish_water_spaniel',\n",
       " 59: 'irish_wolfhound',\n",
       " 60: 'italian_greyhound',\n",
       " 61: 'japanese_spaniel',\n",
       " 62: 'keeshond',\n",
       " 63: 'kelpie',\n",
       " 64: 'kerry_blue_terrier',\n",
       " 65: 'komondor',\n",
       " 66: 'kuvasz',\n",
       " 67: 'labrador_retriever',\n",
       " 68: 'lakeland_terrier',\n",
       " 69: 'leonberg',\n",
       " 70: 'lhasa',\n",
       " 71: 'malamute',\n",
       " 72: 'malinois',\n",
       " 73: 'maltese_dog',\n",
       " 74: 'mexican_hairless',\n",
       " 75: 'miniature_pinscher',\n",
       " 76: 'miniature_poodle',\n",
       " 77: 'miniature_schnauzer',\n",
       " 78: 'newfoundland',\n",
       " 79: 'norfolk_terrier',\n",
       " 80: 'norwegian_elkhound',\n",
       " 81: 'norwich_terrier',\n",
       " 82: 'old_english_sheepdog',\n",
       " 83: 'otterhound',\n",
       " 84: 'papillon',\n",
       " 85: 'pekinese',\n",
       " 86: 'pembroke',\n",
       " 87: 'pomeranian',\n",
       " 88: 'pug',\n",
       " 89: 'redbone',\n",
       " 90: 'rhodesian_ridgeback',\n",
       " 91: 'rottweiler',\n",
       " 92: 'saint_bernard',\n",
       " 93: 'saluki',\n",
       " 94: 'samoyed',\n",
       " 95: 'schipperke',\n",
       " 96: 'scotch_terrier',\n",
       " 97: 'scottish_deerhound',\n",
       " 98: 'sealyham_terrier',\n",
       " 99: 'shetland_sheepdog',\n",
       " 100: 'shih-tzu',\n",
       " 101: 'siberian_husky',\n",
       " 102: 'silky_terrier',\n",
       " 103: 'soft-coated_wheaten_terrier',\n",
       " 104: 'staffordshire_bullterrier',\n",
       " 105: 'standard_poodle',\n",
       " 106: 'standard_schnauzer',\n",
       " 107: 'sussex_spaniel',\n",
       " 108: 'tibetan_mastiff',\n",
       " 109: 'tibetan_terrier',\n",
       " 110: 'toy_poodle',\n",
       " 111: 'toy_terrier',\n",
       " 112: 'vizsla',\n",
       " 113: 'walker_hound',\n",
       " 114: 'weimaraner',\n",
       " 115: 'welsh_springer_spaniel',\n",
       " 116: 'west_highland_white_terrier',\n",
       " 117: 'whippet',\n",
       " 118: 'wire-haired_fox_terrier',\n",
       " 119: 'yorkshire_terrier'}"
      ]
     },
     "execution_count": 9,
     "metadata": {},
     "output_type": "execute_result"
    }
   ],
   "source": [
    "labels_dict"
   ]
  },
  {
   "cell_type": "code",
   "execution_count": 10,
   "metadata": {
    "ExecuteTime": {
     "end_time": "2018-07-09T00:44:10.553169Z",
     "start_time": "2018-07-09T00:44:10.546680Z"
    }
   },
   "outputs": [
    {
     "data": {
      "text/plain": [
       "'{\"0\": \"affenpinscher\", \"1\": \"afghan_hound\", \"2\": \"african_hunting_dog\", \"3\": \"airedale\", \"4\": \"american_staffordshire_terrier\", \"5\": \"appenzeller\", \"6\": \"australian_terrier\", \"7\": \"basenji\", \"8\": \"basset\", \"9\": \"beagle\", \"10\": \"bedlington_terrier\", \"11\": \"bernese_mountain_dog\", \"12\": \"black-and-tan_coonhound\", \"13\": \"blenheim_spaniel\", \"14\": \"bloodhound\", \"15\": \"bluetick\", \"16\": \"border_collie\", \"17\": \"border_terrier\", \"18\": \"borzoi\", \"19\": \"boston_bull\", \"20\": \"bouvier_des_flandres\", \"21\": \"boxer\", \"22\": \"brabancon_griffon\", \"23\": \"briard\", \"24\": \"brittany_spaniel\", \"25\": \"bull_mastiff\", \"26\": \"cairn\", \"27\": \"cardigan\", \"28\": \"chesapeake_bay_retriever\", \"29\": \"chihuahua\", \"30\": \"chow\", \"31\": \"clumber\", \"32\": \"cocker_spaniel\", \"33\": \"collie\", \"34\": \"curly-coated_retriever\", \"35\": \"dandie_dinmont\", \"36\": \"dhole\", \"37\": \"dingo\", \"38\": \"doberman\", \"39\": \"english_foxhound\", \"40\": \"english_setter\", \"41\": \"english_springer\", \"42\": \"entlebucher\", \"43\": \"eskimo_dog\", \"44\": \"flat-coated_retriever\", \"45\": \"french_bulldog\", \"46\": \"german_shepherd\", \"47\": \"german_short-haired_pointer\", \"48\": \"giant_schnauzer\", \"49\": \"golden_retriever\", \"50\": \"gordon_setter\", \"51\": \"great_dane\", \"52\": \"great_pyrenees\", \"53\": \"greater_swiss_mountain_dog\", \"54\": \"groenendael\", \"55\": \"ibizan_hound\", \"56\": \"irish_setter\", \"57\": \"irish_terrier\", \"58\": \"irish_water_spaniel\", \"59\": \"irish_wolfhound\", \"60\": \"italian_greyhound\", \"61\": \"japanese_spaniel\", \"62\": \"keeshond\", \"63\": \"kelpie\", \"64\": \"kerry_blue_terrier\", \"65\": \"komondor\", \"66\": \"kuvasz\", \"67\": \"labrador_retriever\", \"68\": \"lakeland_terrier\", \"69\": \"leonberg\", \"70\": \"lhasa\", \"71\": \"malamute\", \"72\": \"malinois\", \"73\": \"maltese_dog\", \"74\": \"mexican_hairless\", \"75\": \"miniature_pinscher\", \"76\": \"miniature_poodle\", \"77\": \"miniature_schnauzer\", \"78\": \"newfoundland\", \"79\": \"norfolk_terrier\", \"80\": \"norwegian_elkhound\", \"81\": \"norwich_terrier\", \"82\": \"old_english_sheepdog\", \"83\": \"otterhound\", \"84\": \"papillon\", \"85\": \"pekinese\", \"86\": \"pembroke\", \"87\": \"pomeranian\", \"88\": \"pug\", \"89\": \"redbone\", \"90\": \"rhodesian_ridgeback\", \"91\": \"rottweiler\", \"92\": \"saint_bernard\", \"93\": \"saluki\", \"94\": \"samoyed\", \"95\": \"schipperke\", \"96\": \"scotch_terrier\", \"97\": \"scottish_deerhound\", \"98\": \"sealyham_terrier\", \"99\": \"shetland_sheepdog\", \"100\": \"shih-tzu\", \"101\": \"siberian_husky\", \"102\": \"silky_terrier\", \"103\": \"soft-coated_wheaten_terrier\", \"104\": \"staffordshire_bullterrier\", \"105\": \"standard_poodle\", \"106\": \"standard_schnauzer\", \"107\": \"sussex_spaniel\", \"108\": \"tibetan_mastiff\", \"109\": \"tibetan_terrier\", \"110\": \"toy_poodle\", \"111\": \"toy_terrier\", \"112\": \"vizsla\", \"113\": \"walker_hound\", \"114\": \"weimaraner\", \"115\": \"welsh_springer_spaniel\", \"116\": \"west_highland_white_terrier\", \"117\": \"whippet\", \"118\": \"wire-haired_fox_terrier\", \"119\": \"yorkshire_terrier\"}'"
      ]
     },
     "execution_count": 10,
     "metadata": {},
     "output_type": "execute_result"
    }
   ],
   "source": [
    "json.dumps(labels_dict)"
   ]
  },
  {
   "cell_type": "code",
   "execution_count": 8,
   "metadata": {
    "ExecuteTime": {
     "end_time": "2018-07-08T22:15:57.534393Z",
     "start_time": "2018-07-08T22:15:57.530139Z"
    }
   },
   "outputs": [],
   "source": [
    "import json\n",
    "with open('label_classes.json', 'w') as fp:\n",
    "    json.dump(labels_dict, fp, indent=4 )"
   ]
  },
  {
   "cell_type": "code",
   "execution_count": null,
   "metadata": {},
   "outputs": [],
   "source": []
  },
  {
   "cell_type": "code",
   "execution_count": null,
   "metadata": {},
   "outputs": [],
   "source": []
  },
  {
   "cell_type": "code",
   "execution_count": null,
   "metadata": {},
   "outputs": [],
   "source": []
  },
  {
   "cell_type": "code",
   "execution_count": 2,
   "metadata": {
    "ExecuteTime": {
     "end_time": "2018-07-08T22:09:29.418285Z",
     "start_time": "2018-07-08T22:09:29.407835Z"
    }
   },
   "outputs": [
    {
     "data": {
      "text/plain": [
       "['affenpinscher',\n",
       " 'afghan_hound',\n",
       " 'african_hunting_dog',\n",
       " 'airedale',\n",
       " 'american_staffordshire_terrier',\n",
       " 'appenzeller',\n",
       " 'australian_terrier',\n",
       " 'basenji',\n",
       " 'basset',\n",
       " 'beagle',\n",
       " 'bedlington_terrier',\n",
       " 'bernese_mountain_dog',\n",
       " 'black-and-tan_coonhound',\n",
       " 'blenheim_spaniel',\n",
       " 'bloodhound',\n",
       " 'bluetick',\n",
       " 'border_collie',\n",
       " 'border_terrier',\n",
       " 'borzoi',\n",
       " 'boston_bull',\n",
       " 'bouvier_des_flandres',\n",
       " 'boxer',\n",
       " 'brabancon_griffon',\n",
       " 'briard',\n",
       " 'brittany_spaniel',\n",
       " 'bull_mastiff',\n",
       " 'cairn',\n",
       " 'cardigan',\n",
       " 'chesapeake_bay_retriever',\n",
       " 'chihuahua',\n",
       " 'chow',\n",
       " 'clumber',\n",
       " 'cocker_spaniel',\n",
       " 'collie',\n",
       " 'curly-coated_retriever',\n",
       " 'dandie_dinmont',\n",
       " 'dhole',\n",
       " 'dingo',\n",
       " 'doberman',\n",
       " 'english_foxhound',\n",
       " 'english_setter',\n",
       " 'english_springer',\n",
       " 'entlebucher',\n",
       " 'eskimo_dog',\n",
       " 'flat-coated_retriever',\n",
       " 'french_bulldog',\n",
       " 'german_shepherd',\n",
       " 'german_short-haired_pointer',\n",
       " 'giant_schnauzer',\n",
       " 'golden_retriever',\n",
       " 'gordon_setter',\n",
       " 'great_dane',\n",
       " 'great_pyrenees',\n",
       " 'greater_swiss_mountain_dog',\n",
       " 'groenendael',\n",
       " 'ibizan_hound',\n",
       " 'irish_setter',\n",
       " 'irish_terrier',\n",
       " 'irish_water_spaniel',\n",
       " 'irish_wolfhound',\n",
       " 'italian_greyhound',\n",
       " 'japanese_spaniel',\n",
       " 'keeshond',\n",
       " 'kelpie',\n",
       " 'kerry_blue_terrier',\n",
       " 'komondor',\n",
       " 'kuvasz',\n",
       " 'labrador_retriever',\n",
       " 'lakeland_terrier',\n",
       " 'leonberg',\n",
       " 'lhasa',\n",
       " 'malamute',\n",
       " 'malinois',\n",
       " 'maltese_dog',\n",
       " 'mexican_hairless',\n",
       " 'miniature_pinscher',\n",
       " 'miniature_poodle',\n",
       " 'miniature_schnauzer',\n",
       " 'newfoundland',\n",
       " 'norfolk_terrier',\n",
       " 'norwegian_elkhound',\n",
       " 'norwich_terrier',\n",
       " 'old_english_sheepdog',\n",
       " 'otterhound',\n",
       " 'papillon',\n",
       " 'pekinese',\n",
       " 'pembroke',\n",
       " 'pomeranian',\n",
       " 'pug',\n",
       " 'redbone',\n",
       " 'rhodesian_ridgeback',\n",
       " 'rottweiler',\n",
       " 'saint_bernard',\n",
       " 'saluki',\n",
       " 'samoyed',\n",
       " 'schipperke',\n",
       " 'scotch_terrier',\n",
       " 'scottish_deerhound',\n",
       " 'sealyham_terrier',\n",
       " 'shetland_sheepdog',\n",
       " 'shih-tzu',\n",
       " 'siberian_husky',\n",
       " 'silky_terrier',\n",
       " 'soft-coated_wheaten_terrier',\n",
       " 'staffordshire_bullterrier',\n",
       " 'standard_poodle',\n",
       " 'standard_schnauzer',\n",
       " 'sussex_spaniel',\n",
       " 'tibetan_mastiff',\n",
       " 'tibetan_terrier',\n",
       " 'toy_poodle',\n",
       " 'toy_terrier',\n",
       " 'vizsla',\n",
       " 'walker_hound',\n",
       " 'weimaraner',\n",
       " 'welsh_springer_spaniel',\n",
       " 'west_highland_white_terrier',\n",
       " 'whippet',\n",
       " 'wire-haired_fox_terrier',\n",
       " 'yorkshire_terrier']"
      ]
     },
     "execution_count": 2,
     "metadata": {},
     "output_type": "execute_result"
    }
   ],
   "source": [
    "labels"
   ]
  },
  {
   "cell_type": "code",
   "execution_count": 10,
   "metadata": {
    "ExecuteTime": {
     "end_time": "2018-07-08T21:46:55.252332Z",
     "start_time": "2018-07-08T21:46:55.243647Z"
    }
   },
   "outputs": [
    {
     "data": {
      "text/plain": [
       "<module 'keras.preprocessing' from '/usr/local/anaconda3/envs/tf2/lib/python3.6/site-packages/keras/preprocessing/__init__.py'>"
      ]
     },
     "execution_count": 10,
     "metadata": {},
     "output_type": "execute_result"
    }
   ],
   "source": [
    "keras.preprocessing"
   ]
  },
  {
   "cell_type": "code",
   "execution_count": null,
   "metadata": {},
   "outputs": [],
   "source": [
    "tf_keras.preprocessing.image.load_img"
   ]
  },
  {
   "cell_type": "code",
   "execution_count": 13,
   "metadata": {
    "ExecuteTime": {
     "end_time": "2018-07-08T21:47:53.745661Z",
     "start_time": "2018-07-08T21:47:53.740974Z"
    }
   },
   "outputs": [],
   "source": [
    "def download_image(url,ext=\".jpg\"):\n",
    "    url_hash = hashlib.md5(url.encode('utf-8')).hexdigest()\n",
    "    file_path = f'{DOWNLOAD_FOLDER}/{url_hash}.{ext}'\n",
    "    \n",
    "    urllib.request.urlretrieve(url,file_path)\n",
    "\n",
    "    img = tf_keras.preprocessing.image.load_img(file_path, target_size=(224, 224))\n",
    "    return img\n",
    "\n",
    "def predict(im, model, labels,n=5):\n",
    "    out = model.predict(img_arr[None,:,:,:]).flatten()\n",
    "    top_indices = out.argsort()[::-1][:n]\n",
    "    \n",
    "    top_probability = out[top_indices]\n",
    "    top_labels = np.array(labels)[top_indices]\n",
    "    \n",
    "    res = list(zip(top_labels,top_probability))\n",
    "    \n",
    "    return res\n",
    "\n",
    "def get_top_n_predictions(preds,labels,n=5):\n",
    "    if len(preds.shape) >1:\n",
    "        preds = preds.flatten()\n",
    "    top_idxs = (-preds).argsort()[:n]\n",
    "    res =[]\n",
    "    for idx in top_idxs:\n",
    "        res.append((labels[idx],preds[idx] ))\n",
    "    return res"
   ]
  },
  {
   "cell_type": "code",
   "execution_count": null,
   "metadata": {
    "ExecuteTime": {
     "end_time": "2018-07-08T03:38:04.107976Z",
     "start_time": "2018-07-08T03:38:04.062131Z"
    }
   },
   "outputs": [],
   "source": []
  },
  {
   "cell_type": "code",
   "execution_count": 14,
   "metadata": {
    "ExecuteTime": {
     "end_time": "2018-07-08T21:47:55.028995Z",
     "start_time": "2018-07-08T21:47:55.026877Z"
    }
   },
   "outputs": [],
   "source": [
    "DOWNLOAD_FOLDER='downloads'"
   ]
  },
  {
   "cell_type": "code",
   "execution_count": 15,
   "metadata": {
    "ExecuteTime": {
     "end_time": "2018-07-08T21:47:55.484848Z",
     "start_time": "2018-07-08T21:47:55.479385Z"
    }
   },
   "outputs": [],
   "source": [
    "shutil.rmtree(DOWNLOAD_FOLDER,ignore_errors=True)\n",
    "os.makedirs(DOWNLOAD_FOLDER, exist_ok=True)"
   ]
  },
  {
   "cell_type": "code",
   "execution_count": null,
   "metadata": {
    "ExecuteTime": {
     "end_time": "2018-07-08T16:08:23.293353Z",
     "start_time": "2018-07-08T16:08:23.289765Z"
    }
   },
   "outputs": [],
   "source": [
    "\n"
   ]
  },
  {
   "cell_type": "code",
   "execution_count": 16,
   "metadata": {
    "ExecuteTime": {
     "end_time": "2018-07-08T21:47:56.879655Z",
     "start_time": "2018-07-08T21:47:56.728686Z"
    }
   },
   "outputs": [
    {
     "data": {
      "image/png": "[encoded data removed]",
      "text/plain": [
       "<PIL.Image.Image image mode=RGB size=224x224 at 0x11B067470>"
      ]
     },
     "execution_count": 16,
     "metadata": {},
     "output_type": "execute_result"
    }
   ],
   "source": [
    "img_url = \"https://s3.amazonaws.com/cdn-origin-etr.akc.org/wp-content/uploads/2017/11/12231410/Labrador-Retriever-On-White-01.jpg\"\n",
    "img = download_image(img_url)\n",
    "img\n"
   ]
  },
  {
   "cell_type": "code",
   "execution_count": 18,
   "metadata": {
    "ExecuteTime": {
     "end_time": "2018-07-08T21:48:39.383049Z",
     "start_time": "2018-07-08T21:48:39.379199Z"
    }
   },
   "outputs": [],
   "source": [
    "img_preprocessed = keras.applications.mobilenet.preprocess_input (\n",
    "        tf_keras.preprocessing.image.img_to_array(img)\n",
    ")"
   ]
  },
  {
   "cell_type": "code",
   "execution_count": 20,
   "metadata": {
    "ExecuteTime": {
     "end_time": "2018-07-08T21:48:51.077439Z",
     "start_time": "2018-07-08T21:48:51.074062Z"
    }
   },
   "outputs": [],
   "source": [
    "img_arr = keras.applications.mobilenet.preprocess_input (\n",
    "        tf_keras.preprocessing.image.img_to_array(img)\n",
    ")"
   ]
  },
  {
   "cell_type": "markdown",
   "metadata": {},
   "source": [
    "# Keras"
   ]
  },
  {
   "cell_type": "code",
   "execution_count": 21,
   "metadata": {
    "ExecuteTime": {
     "end_time": "2018-07-08T21:48:52.629427Z",
     "start_time": "2018-07-08T21:48:52.626223Z"
    }
   },
   "outputs": [],
   "source": [
    "def load_keras_model(model_path):\n",
    "    with keras.utils.generic_utils.CustomObjectScope({'relu6': keras.applications.mobilenet.relu6,'DepthwiseConv2D': keras.applications.mobilenet.DepthwiseConv2D}):\n",
    "        keras_model =  keras.models.load_model(model_path)\n",
    "    return keras_model"
   ]
  },
  {
   "cell_type": "code",
   "execution_count": 22,
   "metadata": {
    "ExecuteTime": {
     "end_time": "2018-07-08T21:48:57.912918Z",
     "start_time": "2018-07-08T21:48:53.056983Z"
    }
   },
   "outputs": [],
   "source": [
    "keras_model = load_keras_model(model_path='dog_breed.h5')\n"
   ]
  },
  {
   "cell_type": "code",
   "execution_count": 23,
   "metadata": {
    "ExecuteTime": {
     "end_time": "2018-07-08T21:48:58.411761Z",
     "start_time": "2018-07-08T21:48:57.914758Z"
    }
   },
   "outputs": [
    {
     "data": {
      "text/plain": [
       "[('labrador_retriever', 0.94577754),\n",
       " ('walker_hound', 0.022269214),\n",
       " ('great_dane', 0.014199846),\n",
       " ('english_foxhound', 0.008382441),\n",
       " ('whippet', 0.002573074)]"
      ]
     },
     "execution_count": 23,
     "metadata": {},
     "output_type": "execute_result"
    }
   ],
   "source": [
    "predict(im=img_preprocessed ,model=keras_model, labels=labels)"
   ]
  },
  {
   "cell_type": "markdown",
   "metadata": {},
   "source": [
    "# Tensorflow Estimator"
   ]
  },
  {
   "cell_type": "code",
   "execution_count": 24,
   "metadata": {
    "ExecuteTime": {
     "end_time": "2018-07-08T21:48:59.570756Z",
     "start_time": "2018-07-08T21:48:59.568277Z"
    }
   },
   "outputs": [],
   "source": [
    "from tensorflow.python import keras as tf_keras"
   ]
  },
  {
   "cell_type": "code",
   "execution_count": 25,
   "metadata": {
    "ExecuteTime": {
     "end_time": "2018-07-08T21:49:00.182526Z",
     "start_time": "2018-07-08T21:49:00.180493Z"
    }
   },
   "outputs": [],
   "source": [
    "#from tensorflow.python.keras.models import load_model\n"
   ]
  },
  {
   "cell_type": "code",
   "execution_count": null,
   "metadata": {},
   "outputs": [],
   "source": [
    "keras.applications.mobilenet.relu6"
   ]
  },
  {
   "cell_type": "code",
   "execution_count": 32,
   "metadata": {
    "ExecuteTime": {
     "end_time": "2018-07-08T21:50:08.330237Z",
     "start_time": "2018-07-08T21:50:08.326833Z"
    }
   },
   "outputs": [],
   "source": [
    "def load_keras_using_tf(model_path):\n",
    "\n",
    "    custom_objects={'relu6': tf_keras.applications.mobilenet.relu6,'DepthwiseConv2D': tf_keras.applications.mobilenet.DepthwiseConv2D}\n",
    "    \n",
    "    model = tf_keras.models.load_model(model_path,custom_objects=custom_objects)\n",
    "        \n",
    "    mobilenet_estimator = tf.keras.estimator.model_to_estimator(keras_model=model, custom_objects={'relu6': tf_keras.applications.mobilenet.relu6})\n",
    "    \n",
    "    return mobilenet_estimator"
   ]
  },
  {
   "cell_type": "code",
   "execution_count": 33,
   "metadata": {
    "ExecuteTime": {
     "end_time": "2018-07-08T21:50:13.511532Z",
     "start_time": "2018-07-08T21:50:13.491374Z"
    }
   },
   "outputs": [
    {
     "ename": "AttributeError",
     "evalue": "module 'tensorflow.python.keras.applications.mobilenet' has no attribute 'relu6'",
     "output_type": "error",
     "traceback": [
      "\u001b[0;31m---------------------------------------------------------------------------\u001b[0m",
      "\u001b[0;31mAttributeError\u001b[0m                            Traceback (most recent call last)",
      "\u001b[0;32m<ipython-input-33-2d6931f808a6>\u001b[0m in \u001b[0;36m<module>\u001b[0;34m()\u001b[0m\n\u001b[0;32m----> 1\u001b[0;31m \u001b[0mtf_keras_model\u001b[0m \u001b[0;34m=\u001b[0m \u001b[0mload_keras_using_tf\u001b[0m\u001b[0;34m(\u001b[0m\u001b[0;34m'dog_breed.h5'\u001b[0m\u001b[0;34m)\u001b[0m\u001b[0;34m\u001b[0m\u001b[0m\n\u001b[0m",
      "\u001b[0;32m<ipython-input-32-0bc2cff8b5e8>\u001b[0m in \u001b[0;36mload_keras_using_tf\u001b[0;34m(model_path)\u001b[0m\n\u001b[1;32m      1\u001b[0m \u001b[0;32mdef\u001b[0m \u001b[0mload_keras_using_tf\u001b[0m\u001b[0;34m(\u001b[0m\u001b[0mmodel_path\u001b[0m\u001b[0;34m)\u001b[0m\u001b[0;34m:\u001b[0m\u001b[0;34m\u001b[0m\u001b[0m\n\u001b[1;32m      2\u001b[0m \u001b[0;34m\u001b[0m\u001b[0m\n\u001b[0;32m----> 3\u001b[0;31m     \u001b[0mcustom_objects\u001b[0m\u001b[0;34m=\u001b[0m\u001b[0;34m{\u001b[0m\u001b[0;34m'relu6'\u001b[0m\u001b[0;34m:\u001b[0m \u001b[0mtf_keras\u001b[0m\u001b[0;34m.\u001b[0m\u001b[0mapplications\u001b[0m\u001b[0;34m.\u001b[0m\u001b[0mmobilenet\u001b[0m\u001b[0;34m.\u001b[0m\u001b[0mrelu6\u001b[0m\u001b[0;34m,\u001b[0m\u001b[0;34m'DepthwiseConv2D'\u001b[0m\u001b[0;34m:\u001b[0m \u001b[0mtf_keras\u001b[0m\u001b[0;34m.\u001b[0m\u001b[0mapplications\u001b[0m\u001b[0;34m.\u001b[0m\u001b[0mmobilenet\u001b[0m\u001b[0;34m.\u001b[0m\u001b[0mDepthwiseConv2D\u001b[0m\u001b[0;34m}\u001b[0m\u001b[0;34m\u001b[0m\u001b[0m\n\u001b[0m\u001b[1;32m      4\u001b[0m \u001b[0;34m\u001b[0m\u001b[0m\n\u001b[1;32m      5\u001b[0m     \u001b[0mmodel\u001b[0m \u001b[0;34m=\u001b[0m \u001b[0mtf_keras\u001b[0m\u001b[0;34m.\u001b[0m\u001b[0mmodels\u001b[0m\u001b[0;34m.\u001b[0m\u001b[0mload_model\u001b[0m\u001b[0;34m(\u001b[0m\u001b[0mmodel_path\u001b[0m\u001b[0;34m,\u001b[0m\u001b[0mcustom_objects\u001b[0m\u001b[0;34m=\u001b[0m\u001b[0mcustom_objects\u001b[0m\u001b[0;34m)\u001b[0m\u001b[0;34m\u001b[0m\u001b[0m\n",
      "\u001b[0;31mAttributeError\u001b[0m: module 'tensorflow.python.keras.applications.mobilenet' has no attribute 'relu6'"
     ]
    }
   ],
   "source": [
    "tf_keras_model = load_keras_using_tf('dog_breed.h5')"
   ]
  },
  {
   "cell_type": "code",
   "execution_count": null,
   "metadata": {
    "ExecuteTime": {
     "end_time": "2018-07-08T21:39:39.799005Z",
     "start_time": "2018-07-08T21:39:39.795917Z"
    }
   },
   "outputs": [],
   "source": [
    "predict_input_fn = tf.estimator.inputs.numpy_input_fn(\n",
    "  x={\"input_1\": img_preprocessed[None,:,:,:]},\n",
    "  num_epochs=1,\n",
    "  shuffle=False)"
   ]
  },
  {
   "cell_type": "code",
   "execution_count": null,
   "metadata": {
    "ExecuteTime": {
     "end_time": "2018-07-08T21:39:41.651397Z",
     "start_time": "2018-07-08T21:39:39.801489Z"
    }
   },
   "outputs": [],
   "source": [
    "predictions = list(tf_keras_model.predict(input_fn=predict_input_fn))\n",
    "preds= predictions[0]['dense_1']\n",
    "get_top_n_predictions(preds=preds,labels=labels)"
   ]
  },
  {
   "cell_type": "code",
   "execution_count": null,
   "metadata": {},
   "outputs": [],
   "source": []
  },
  {
   "cell_type": "markdown",
   "metadata": {},
   "source": [
    "# convert tfjs"
   ]
  },
  {
   "cell_type": "code",
   "execution_count": null,
   "metadata": {
    "ExecuteTime": {
     "end_time": "2018-07-08T21:43:34.158163Z",
     "start_time": "2018-07-08T21:43:01.796010Z"
    }
   },
   "outputs": [],
   "source": [
    "!pip install tensorflowjs==0.5.0"
   ]
  },
  {
   "cell_type": "code",
   "execution_count": null,
   "metadata": {
    "ExecuteTime": {
     "end_time": "2018-07-08T21:43:40.679255Z",
     "start_time": "2018-07-08T21:43:40.665524Z"
    }
   },
   "outputs": [],
   "source": [
    "\n"
   ]
  },
  {
   "cell_type": "code",
   "execution_count": 35,
   "metadata": {
    "ExecuteTime": {
     "end_time": "2018-07-08T21:51:08.967387Z",
     "start_time": "2018-07-08T21:51:08.955512Z"
    }
   },
   "outputs": [],
   "source": [
    "?tfjs.converters.save_keras_model"
   ]
  },
  {
   "cell_type": "code",
   "execution_count": 40,
   "metadata": {
    "ExecuteTime": {
     "end_time": "2018-07-08T21:53:53.249212Z",
     "start_time": "2018-07-08T21:53:52.887481Z"
    }
   },
   "outputs": [],
   "source": [
    "tfjs.converters.save_keras_model(\n",
    "    model = keras_model, \n",
    "    artifacts_dir='tfjs_artifacts')"
   ]
  },
  {
   "cell_type": "code",
   "execution_count": null,
   "metadata": {},
   "outputs": [],
   "source": []
  },
  {
   "cell_type": "code",
   "execution_count": null,
   "metadata": {},
   "outputs": [],
   "source": []
  },
  {
   "cell_type": "markdown",
   "metadata": {},
   "source": [
    "# convert tflite"
   ]
  },
  {
   "cell_type": "code",
   "execution_count": 37,
   "metadata": {
    "ExecuteTime": {
     "end_time": "2018-07-08T21:51:47.481572Z",
     "start_time": "2018-07-08T21:51:47.462016Z"
    }
   },
   "outputs": [
    {
     "ename": "AttributeError",
     "evalue": "module 'tensorflow.python.keras.utils' has no attribute 'generic_utils'",
     "output_type": "error",
     "traceback": [
      "\u001b[0;31m---------------------------------------------------------------------------\u001b[0m",
      "\u001b[0;31mAttributeError\u001b[0m                            Traceback (most recent call last)",
      "\u001b[0;32m<ipython-input-37-7fdc9e749e8e>\u001b[0m in \u001b[0;36m<module>\u001b[0;34m()\u001b[0m\n\u001b[0;32m----> 1\u001b[0;31m \u001b[0;32mwith\u001b[0m \u001b[0mtf_keras\u001b[0m\u001b[0;34m.\u001b[0m\u001b[0mutils\u001b[0m\u001b[0;34m.\u001b[0m\u001b[0mgeneric_utils\u001b[0m\u001b[0;34m.\u001b[0m\u001b[0mCustomObjectScope\u001b[0m\u001b[0;34m(\u001b[0m\u001b[0;34m{\u001b[0m\u001b[0;34m'relu6'\u001b[0m\u001b[0;34m:\u001b[0m \u001b[0mtf_keras\u001b[0m\u001b[0;34m.\u001b[0m\u001b[0mapplications\u001b[0m\u001b[0;34m.\u001b[0m\u001b[0mmobilenet\u001b[0m\u001b[0;34m.\u001b[0m\u001b[0mrelu6\u001b[0m\u001b[0;34m,\u001b[0m\u001b[0;34m'DepthwiseConv2D'\u001b[0m\u001b[0;34m:\u001b[0m \u001b[0mtf_keras\u001b[0m\u001b[0;34m.\u001b[0m\u001b[0mapplications\u001b[0m\u001b[0;34m.\u001b[0m\u001b[0mmobilenet\u001b[0m\u001b[0;34m.\u001b[0m\u001b[0mDepthwiseConv2D\u001b[0m\u001b[0;34m}\u001b[0m\u001b[0;34m)\u001b[0m\u001b[0;34m:\u001b[0m\u001b[0;34m\u001b[0m\u001b[0m\n\u001b[0m\u001b[1;32m      2\u001b[0m     \u001b[0mconverter\u001b[0m \u001b[0;34m=\u001b[0m \u001b[0mtf\u001b[0m\u001b[0;34m.\u001b[0m\u001b[0mcontrib\u001b[0m\u001b[0;34m.\u001b[0m\u001b[0mlite\u001b[0m\u001b[0;34m.\u001b[0m\u001b[0mTocoConverter\u001b[0m\u001b[0;34m.\u001b[0m\u001b[0mfrom_keras_model_file\u001b[0m\u001b[0;34m(\u001b[0m\u001b[0;34m\"dog_breed.h5\"\u001b[0m\u001b[0;34m)\u001b[0m\u001b[0;34m\u001b[0m\u001b[0m\n\u001b[1;32m      3\u001b[0m \u001b[0;34m\u001b[0m\u001b[0m\n\u001b[1;32m      4\u001b[0m     \u001b[0mtflite_model\u001b[0m \u001b[0;34m=\u001b[0m \u001b[0mconverter\u001b[0m\u001b[0;34m.\u001b[0m\u001b[0mconvert\u001b[0m\u001b[0;34m(\u001b[0m\u001b[0;34m)\u001b[0m\u001b[0;34m\u001b[0m\u001b[0m\n\u001b[1;32m      5\u001b[0m     \u001b[0mopen\u001b[0m\u001b[0;34m(\u001b[0m\u001b[0;34m\"dog_breed.tflite\"\u001b[0m\u001b[0;34m,\u001b[0m \u001b[0;34m\"wb\"\u001b[0m\u001b[0;34m)\u001b[0m\u001b[0;34m.\u001b[0m\u001b[0mwrite\u001b[0m\u001b[0;34m(\u001b[0m\u001b[0mtflite_model\u001b[0m\u001b[0;34m)\u001b[0m\u001b[0;34m\u001b[0m\u001b[0m\n",
      "\u001b[0;31mAttributeError\u001b[0m: module 'tensorflow.python.keras.utils' has no attribute 'generic_utils'"
     ]
    }
   ],
   "source": [
    "with tf_keras.utils.generic_utils.CustomObjectScope({'relu6': tf_keras.applications.mobilenet.relu6,'DepthwiseConv2D': tf_keras.applications.mobilenet.DepthwiseConv2D}):\n",
    "    converter = tf.contrib.lite.TocoConverter.from_keras_model_file(\"dog_breed.h5\")\n",
    "    \n",
    "    tflite_model = converter.convert()\n",
    "    open(\"dog_breed.tflite\", \"wb\").write(tflite_model)"
   ]
  },
  {
   "cell_type": "code",
   "execution_count": null,
   "metadata": {},
   "outputs": [],
   "source": []
  },
  {
   "cell_type": "markdown",
   "metadata": {},
   "source": [
    "# coreml"
   ]
  },
  {
   "cell_type": "code",
   "execution_count": 39,
   "metadata": {
    "ExecuteTime": {
     "end_time": "2018-07-08T21:52:43.080407Z",
     "start_time": "2018-07-08T21:52:41.292359Z"
    }
   },
   "outputs": [
    {
     "name": "stdout",
     "output_type": "stream",
     "text": [
      "0 : input_1, <keras.engine.topology.InputLayer object at 0x11b1d3278>\n",
      "1 : conv1_pad, <keras.layers.convolutional.ZeroPadding2D object at 0x11b1d32e8>\n",
      "2 : conv1, <keras.layers.convolutional.Conv2D object at 0x11b1d3550>\n",
      "3 : conv1_bn, <keras.layers.normalization.BatchNormalization object at 0x11b1d33c8>\n",
      "4 : conv1_relu, <keras.layers.core.Activation object at 0x11b1d3358>\n",
      "5 : conv_pad_1, <keras.layers.convolutional.ZeroPadding2D object at 0x11b1d35c0>\n",
      "6 : conv_dw_1, <keras.applications.mobilenet.DepthwiseConv2D object at 0x11b1d36d8>\n",
      "7 : conv_dw_1_bn, <keras.layers.normalization.BatchNormalization object at 0x11b1d3748>\n",
      "8 : conv_dw_1_relu, <keras.layers.core.Activation object at 0x11b1d37b8>\n",
      "9 : conv_pw_1, <keras.layers.convolutional.Conv2D object at 0x11b1d3a90>\n",
      "10 : conv_pw_1_bn, <keras.layers.normalization.BatchNormalization object at 0x11b1d3ac8>\n",
      "11 : conv_pw_1_relu, <keras.layers.core.Activation object at 0x11b1d3c18>\n",
      "12 : conv_pad_2, <keras.layers.convolutional.ZeroPadding2D object at 0x11b1d3d68>\n",
      "13 : conv_dw_2, <keras.applications.mobilenet.DepthwiseConv2D object at 0x11b1d3da0>\n",
      "14 : conv_dw_2_bn, <keras.layers.normalization.BatchNormalization object at 0x11b1d3e10>\n",
      "15 : conv_dw_2_relu, <keras.layers.core.Activation object at 0x11b1d3e80>\n",
      "16 : conv_pw_2, <keras.layers.convolutional.Conv2D object at 0x11b1db1d0>\n",
      "17 : conv_pw_2_bn, <keras.layers.normalization.BatchNormalization object at 0x11b1db320>\n",
      "18 : conv_pw_2_relu, <keras.layers.core.Activation object at 0x11b1db470>\n",
      "19 : conv_pad_3, <keras.layers.convolutional.ZeroPadding2D object at 0x11b1db4a8>\n",
      "20 : conv_dw_3, <keras.applications.mobilenet.DepthwiseConv2D object at 0x11b1db518>\n",
      "21 : conv_dw_3_bn, <keras.layers.normalization.BatchNormalization object at 0x11b1db588>\n",
      "22 : conv_dw_3_relu, <keras.layers.core.Activation object at 0x11b1db860>\n",
      "23 : conv_pw_3, <keras.layers.convolutional.Conv2D object at 0x11b1db898>\n",
      "24 : conv_pw_3_bn, <keras.layers.normalization.BatchNormalization object at 0x11b1db9e8>\n",
      "25 : conv_pw_3_relu, <keras.layers.core.Activation object at 0x11b1dbb38>\n",
      "26 : conv_pad_4, <keras.layers.convolutional.ZeroPadding2D object at 0x11b1dbb70>\n",
      "27 : conv_dw_4, <keras.applications.mobilenet.DepthwiseConv2D object at 0x11b1dbbe0>\n",
      "28 : conv_dw_4_bn, <keras.layers.normalization.BatchNormalization object at 0x11b1dbc50>\n",
      "29 : conv_dw_4_relu, <keras.layers.core.Activation object at 0x11b1dbf28>\n",
      "30 : conv_pw_4, <keras.layers.convolutional.Conv2D object at 0x11b1dbf60>\n",
      "31 : conv_pw_4_bn, <keras.layers.normalization.BatchNormalization object at 0x11b1d3fd0>\n",
      "32 : conv_pw_4_relu, <keras.layers.core.Activation object at 0x11b1e2240>\n",
      "33 : conv_pad_5, <keras.layers.convolutional.ZeroPadding2D object at 0x11b1e2278>\n",
      "34 : conv_dw_5, <keras.applications.mobilenet.DepthwiseConv2D object at 0x11b1e22e8>\n",
      "35 : conv_dw_5_bn, <keras.layers.normalization.BatchNormalization object at 0x11b1e2358>\n",
      "36 : conv_dw_5_relu, <keras.layers.core.Activation object at 0x11b1e2630>\n",
      "37 : conv_pw_5, <keras.layers.convolutional.Conv2D object at 0x11b1e2668>\n",
      "38 : conv_pw_5_bn, <keras.layers.normalization.BatchNormalization object at 0x11b1e27b8>\n",
      "39 : conv_pw_5_relu, <keras.layers.core.Activation object at 0x11b1e2908>\n",
      "40 : conv_pad_6, <keras.layers.convolutional.ZeroPadding2D object at 0x11b1e2940>\n",
      "41 : conv_dw_6, <keras.applications.mobilenet.DepthwiseConv2D object at 0x11b1e29b0>\n",
      "42 : conv_dw_6_bn, <keras.layers.normalization.BatchNormalization object at 0x11b1e2a20>\n",
      "43 : conv_dw_6_relu, <keras.layers.core.Activation object at 0x11b1e2cf8>\n",
      "44 : conv_pw_6, <keras.layers.convolutional.Conv2D object at 0x11b1e2d30>\n",
      "45 : conv_pw_6_bn, <keras.layers.normalization.BatchNormalization object at 0x11b1e2e80>\n",
      "46 : conv_pw_6_relu, <keras.layers.core.Activation object at 0x11b1dbfd0>\n",
      "47 : conv_pad_7, <keras.layers.convolutional.ZeroPadding2D object at 0x11b1e7048>\n",
      "48 : conv_dw_7, <keras.applications.mobilenet.DepthwiseConv2D object at 0x11b1e70b8>\n",
      "49 : conv_dw_7_bn, <keras.layers.normalization.BatchNormalization object at 0x11b1e7128>\n",
      "50 : conv_dw_7_relu, <keras.layers.core.Activation object at 0x11b1e7400>\n",
      "51 : conv_pw_7, <keras.layers.convolutional.Conv2D object at 0x11b1e7438>\n",
      "52 : conv_pw_7_bn, <keras.layers.normalization.BatchNormalization object at 0x11b1e7588>\n",
      "53 : conv_pw_7_relu, <keras.layers.core.Activation object at 0x11b1e76d8>\n",
      "54 : conv_pad_8, <keras.layers.convolutional.ZeroPadding2D object at 0x11b1e7710>\n",
      "55 : conv_dw_8, <keras.applications.mobilenet.DepthwiseConv2D object at 0x11b1e7780>\n",
      "56 : conv_dw_8_bn, <keras.layers.normalization.BatchNormalization object at 0x11b1e77f0>\n",
      "57 : conv_dw_8_relu, <keras.layers.core.Activation object at 0x11b1e7ac8>\n",
      "58 : conv_pw_8, <keras.layers.convolutional.Conv2D object at 0x11b1e7b00>\n",
      "59 : conv_pw_8_bn, <keras.layers.normalization.BatchNormalization object at 0x11b1e7c50>\n",
      "60 : conv_pw_8_relu, <keras.layers.core.Activation object at 0x11b1e7da0>\n",
      "61 : conv_pad_9, <keras.layers.convolutional.ZeroPadding2D object at 0x11b1e7dd8>\n",
      "62 : conv_dw_9, <keras.applications.mobilenet.DepthwiseConv2D object at 0x11b1e7e48>\n",
      "63 : conv_dw_9_bn, <keras.layers.normalization.BatchNormalization object at 0x11b1e7eb8>\n",
      "64 : conv_dw_9_relu, <keras.layers.core.Activation object at 0x11b1e2fd0>\n",
      "65 : conv_pw_9, <keras.layers.convolutional.Conv2D object at 0x11b227208>\n",
      "66 : conv_pw_9_bn, <keras.layers.normalization.BatchNormalization object at 0x11b227358>\n",
      "67 : conv_pw_9_relu, <keras.layers.core.Activation object at 0x11b2274a8>\n",
      "68 : conv_pad_10, <keras.layers.convolutional.ZeroPadding2D object at 0x11b2274e0>\n",
      "69 : conv_dw_10, <keras.applications.mobilenet.DepthwiseConv2D object at 0x11b227550>\n",
      "70 : conv_dw_10_bn, <keras.layers.normalization.BatchNormalization object at 0x11b2275c0>\n",
      "71 : conv_dw_10_relu, <keras.layers.core.Activation object at 0x11b227898>\n",
      "72 : conv_pw_10, <keras.layers.convolutional.Conv2D object at 0x11b2278d0>\n",
      "73 : conv_pw_10_bn, <keras.layers.normalization.BatchNormalization object at 0x11b227a20>\n",
      "74 : conv_pw_10_relu, <keras.layers.core.Activation object at 0x11b227b70>\n",
      "75 : conv_pad_11, <keras.layers.convolutional.ZeroPadding2D object at 0x11b227ba8>\n",
      "76 : conv_dw_11, <keras.applications.mobilenet.DepthwiseConv2D object at 0x11b227c18>\n",
      "77 : conv_dw_11_bn, <keras.layers.normalization.BatchNormalization object at 0x11b227c88>\n",
      "78 : conv_dw_11_relu, <keras.layers.core.Activation object at 0x11b227f60>\n",
      "79 : conv_pw_11, <keras.layers.convolutional.Conv2D object at 0x11b227f98>\n",
      "80 : conv_pw_11_bn, <keras.layers.normalization.BatchNormalization object at 0x11b22f128>\n",
      "81 : conv_pw_11_relu, <keras.layers.core.Activation object at 0x11b22f278>\n",
      "82 : conv_pad_12, <keras.layers.convolutional.ZeroPadding2D object at 0x11b22f2b0>\n",
      "83 : conv_dw_12, <keras.applications.mobilenet.DepthwiseConv2D object at 0x11b22f320>\n",
      "84 : conv_dw_12_bn, <keras.layers.normalization.BatchNormalization object at 0x11b22f390>\n",
      "85 : conv_dw_12_relu, <keras.layers.core.Activation object at 0x11b22f668>\n",
      "86 : conv_pw_12, <keras.layers.convolutional.Conv2D object at 0x11b22f6a0>\n",
      "87 : conv_pw_12_bn, <keras.layers.normalization.BatchNormalization object at 0x11b22f7f0>\n",
      "88 : conv_pw_12_relu, <keras.layers.core.Activation object at 0x11b22f940>\n",
      "89 : conv_pad_13, <keras.layers.convolutional.ZeroPadding2D object at 0x11b22f978>\n",
      "90 : conv_dw_13, <keras.applications.mobilenet.DepthwiseConv2D object at 0x11b22f9e8>\n",
      "91 : conv_dw_13_bn, <keras.layers.normalization.BatchNormalization object at 0x11b22fa58>\n",
      "92 : conv_dw_13_relu, <keras.layers.core.Activation object at 0x11b22fd30>\n",
      "93 : conv_pw_13, <keras.layers.convolutional.Conv2D object at 0x11b22fd68>\n",
      "94 : conv_pw_13_bn, <keras.layers.normalization.BatchNormalization object at 0x11b22feb8>\n",
      "95 : conv_pw_13_relu, <keras.layers.core.Activation object at 0x11b1e7f98>\n",
      "96 : global_average_pooling2d_1, <keras.layers.pooling.GlobalAveragePooling2D object at 0x11b236080>\n",
      "97 : dense_1, <keras.layers.core.Dense object at 0x11b2360f0>\n",
      "98 : dense_1__activation__, <keras.layers.core.Activation object at 0x1c31b5c0f0>\n"
     ]
    }
   ],
   "source": [
    "scale = 1./255\n",
    "coreml_model = coremltools.converters.keras.convert(keras_model,\n",
    "                                                    input_names = 'image',\n",
    "                                                    output_names = 'output',\n",
    "                                                    image_input_names = 'image',\n",
    "                                                    image_scale = scale,\n",
    "                                                    red_bias = -123.68 * scale,\n",
    "                                                    green_bias = -116.779 * scale,\n",
    "                                                    blue_bias = -103.939 * scale,\n",
    "                                                    class_labels=labels)\n",
    "\n",
    "coreml_model.author = 'Ian Lo'\n",
    "coreml_model.license = 'MIT'\n",
    "coreml_model.short_description = 'Model to classify 17 different Singaporean dishes'\n",
    "coreml_model.input_description['image'] = 'Images from camera in CVPixelBuffer'\n",
    "coreml_model.output_description['output'] = 'Predicted dishes'\n",
    "\n",
    "coreml_model.save('dog_breed.mlmodel')"
   ]
  },
  {
   "cell_type": "code",
   "execution_count": null,
   "metadata": {},
   "outputs": [],
   "source": []
  },
  {
   "cell_type": "code",
   "execution_count": null,
   "metadata": {},
   "outputs": [],
   "source": []
  },
  {
   "cell_type": "code",
   "execution_count": null,
   "metadata": {
    "ExecuteTime": {
     "end_time": "2018-07-08T16:09:32.234284Z",
     "start_time": "2018-07-08T16:09:32.230595Z"
    }
   },
   "outputs": [],
   "source": []
  },
  {
   "cell_type": "code",
   "execution_count": null,
   "metadata": {},
   "outputs": [],
   "source": []
  },
  {
   "cell_type": "code",
   "execution_count": null,
   "metadata": {
    "ExecuteTime": {
     "end_time": "2018-07-08T16:08:57.747762Z",
     "start_time": "2018-07-08T16:08:57.744833Z"
    }
   },
   "outputs": [],
   "source": [
    "from tensorflow.python.keras import Sequential\n",
    "from tensorflow.python.keras import models\n",
    "from tensorflow.python.keras import layers\n"
   ]
  },
  {
   "cell_type": "code",
   "execution_count": null,
   "metadata": {
    "ExecuteTime": {
     "end_time": "2018-07-08T16:09:05.333196Z",
     "start_time": "2018-07-08T16:08:59.462165Z"
    }
   },
   "outputs": [],
   "source": [
    "import tensorflow as tf\n",
    "from tensorflow.python.keras import backend as K\n",
    "from tensorflow.python.keras.utils import CustomObjectScope\n",
    "def relu6(x):\n",
    "    return K.relu(x, max_value=6)\n",
    "with CustomObjectScope({'relu6': relu6}):\n",
    "    keras_mobilenet= tf.keras.models.load_model(filepath='dog_breed.h5')\n",
    "\n",
    "    mobilenet_estimator = tf.keras.estimator.model_to_estimator(keras_model=keras_mobilenet,  custom_objects={'relu6': relu6})"
   ]
  },
  {
   "cell_type": "code",
   "execution_count": null,
   "metadata": {
    "ExecuteTime": {
     "end_time": "2018-07-08T13:58:21.796858Z",
     "start_time": "2018-07-08T13:58:21.768322Z"
    }
   },
   "outputs": [],
   "source": []
  },
  {
   "cell_type": "code",
   "execution_count": null,
   "metadata": {
    "ExecuteTime": {
     "end_time": "2018-07-08T14:57:51.895130Z",
     "start_time": "2018-07-08T14:57:51.878686Z"
    }
   },
   "outputs": [],
   "source": [
    "??preprocess_input"
   ]
  },
  {
   "cell_type": "code",
   "execution_count": null,
   "metadata": {
    "ExecuteTime": {
     "end_time": "2018-07-08T16:09:28.674874Z",
     "start_time": "2018-07-08T16:09:28.671074Z"
    }
   },
   "outputs": [],
   "source": [
    "predict_input_fn = tf.estimator.inputs.numpy_input_fn(\n",
    "  x={\"input_1\": preprocess_input(image.img_to_array(img))[None,:,:,:]},\n",
    "  num_epochs=1,\n",
    "  shuffle=False)"
   ]
  },
  {
   "cell_type": "code",
   "execution_count": null,
   "metadata": {
    "ExecuteTime": {
     "end_time": "2018-07-08T16:09:31.409066Z",
     "start_time": "2018-07-08T16:09:29.694503Z"
    },
    "scrolled": true
   },
   "outputs": [],
   "source": [
    "predictions = list(mobilenet_estimator.predict(input_fn=predict_input_fn))\n",
    "#predicted_classes = [p[\"classes\"] for p in predictions]"
   ]
  },
  {
   "cell_type": "code",
   "execution_count": null,
   "metadata": {
    "ExecuteTime": {
     "end_time": "2018-07-08T16:09:33.554701Z",
     "start_time": "2018-07-08T16:09:33.550492Z"
    }
   },
   "outputs": [],
   "source": [
    "preds= predictions[0]['dense_1']\n",
    "get_top_n_predictions(preds=preds,labels=labels)"
   ]
  },
  {
   "cell_type": "code",
   "execution_count": null,
   "metadata": {},
   "outputs": [],
   "source": [
    "predictions = list(mobilenet_estimator.predict(input_fn=predict_input_fn))\n",
    "preds= predictions[0]['dense_1']\n",
    "get_top_n_predictions(preds=preds,labels=labels)"
   ]
  },
  {
   "cell_type": "code",
   "execution_count": null,
   "metadata": {},
   "outputs": [],
   "source": []
  },
  {
   "cell_type": "code",
   "execution_count": null,
   "metadata": {},
   "outputs": [],
   "source": []
  },
  {
   "cell_type": "code",
   "execution_count": null,
   "metadata": {},
   "outputs": [],
   "source": []
  },
  {
   "cell_type": "code",
   "execution_count": null,
   "metadata": {
    "ExecuteTime": {
     "end_time": "2018-07-08T16:47:27.256922Z",
     "start_time": "2018-07-08T16:47:27.254058Z"
    }
   },
   "outputs": [],
   "source": [
    "def serving_input_receiver_fn():\n",
    "    inputs = {\n",
    "        'input_1': tf.placeholder(tf.float32, [None, 224, 224, 3]),\n",
    "      }\n",
    "    return tf.estimator.export.ServingInputReceiver(inputs)\n"
   ]
  },
  {
   "cell_type": "code",
   "execution_count": null,
   "metadata": {},
   "outputs": [],
   "source": []
  },
  {
   "cell_type": "code",
   "execution_count": null,
   "metadata": {
    "ExecuteTime": {
     "end_time": "2018-07-08T16:47:28.053527Z",
     "start_time": "2018-07-08T16:47:28.025337Z"
    }
   },
   "outputs": [],
   "source": [
    "mobilenet_estimator.export_savedmodel('tmp',serving_input_receiver_fn=serving_input_receiver_fn)"
   ]
  },
  {
   "cell_type": "code",
   "execution_count": null,
   "metadata": {
    "ExecuteTime": {
     "end_time": "2018-07-08T16:46:28.654976Z",
     "start_time": "2018-07-08T16:46:28.650091Z"
    }
   },
   "outputs": [],
   "source": [
    "?tf.estimator.export.ServingInputReceiver"
   ]
  },
  {
   "cell_type": "code",
   "execution_count": null,
   "metadata": {
    "ExecuteTime": {
     "end_time": "2018-07-08T16:46:09.873671Z",
     "start_time": "2018-07-08T16:46:09.868949Z"
    }
   },
   "outputs": [],
   "source": [
    "?mobilenet_estimator.export_savedmodel"
   ]
  },
  {
   "cell_type": "code",
   "execution_count": null,
   "metadata": {
    "ExecuteTime": {
     "end_time": "2018-07-08T14:00:02.245988Z",
     "start_time": "2018-07-08T14:00:02.115615Z"
    }
   },
   "outputs": [],
   "source": [
    "!ls tmp/1531058391"
   ]
  },
  {
   "cell_type": "code",
   "execution_count": null,
   "metadata": {
    "ExecuteTime": {
     "end_time": "2018-07-08T15:43:51.673308Z",
     "start_time": "2018-07-08T15:43:51.666090Z"
    }
   },
   "outputs": [],
   "source": [
    "?tf.estimator.export.ServingInputReceiver"
   ]
  },
  {
   "cell_type": "code",
   "execution_count": null,
   "metadata": {
    "ExecuteTime": {
     "end_time": "2018-07-08T15:49:19.964243Z",
     "start_time": "2018-07-08T15:49:19.936449Z"
    }
   },
   "outputs": [],
   "source": [
    "from te.contrib.lite import TocoConverter"
   ]
  },
  {
   "cell_type": "code",
   "execution_count": null,
   "metadata": {
    "ExecuteTime": {
     "end_time": "2018-07-08T19:39:06.027564Z",
     "start_time": "2018-07-08T19:39:05.904437Z"
    }
   },
   "outputs": [],
   "source": [
    "!pwd"
   ]
  },
  {
   "cell_type": "code",
   "execution_count": null,
   "metadata": {
    "ExecuteTime": {
     "end_time": "2018-07-08T19:39:01.987886Z",
     "start_time": "2018-07-08T19:39:01.862719Z"
    }
   },
   "outputs": [],
   "source": [
    "!ls dog_breed.h5 "
   ]
  },
  {
   "cell_type": "code",
   "execution_count": null,
   "metadata": {
    "ExecuteTime": {
     "end_time": "2018-07-08T19:47:11.467191Z",
     "start_time": "2018-07-08T19:47:11.462083Z"
    }
   },
   "outputs": [],
   "source": [
    "tf.contrib.lite.TocoConverter."
   ]
  },
  {
   "cell_type": "code",
   "execution_count": null,
   "metadata": {
    "ExecuteTime": {
     "end_time": "2018-07-08T20:09:51.178029Z",
     "start_time": "2018-07-08T20:09:51.175193Z"
    }
   },
   "outputs": [],
   "source": [
    "?converter.convert"
   ]
  },
  {
   "cell_type": "code",
   "execution_count": null,
   "metadata": {
    "ExecuteTime": {
     "end_time": "2018-07-08T20:55:52.070080Z",
     "start_time": "2018-07-08T20:55:50.196529Z"
    }
   },
   "outputs": [],
   "source": [
    "import tensorflow as tf\n",
    "from tensorflow.keras.applications import mobilenet"
   ]
  },
  {
   "cell_type": "code",
   "execution_count": null,
   "metadata": {
    "ExecuteTime": {
     "end_time": "2018-07-08T20:55:52.618672Z",
     "start_time": "2018-07-08T20:55:52.506970Z"
    }
   },
   "outputs": [],
   "source": []
  },
  {
   "cell_type": "code",
   "execution_count": null,
   "metadata": {
    "ExecuteTime": {
     "end_time": "2018-07-08T20:56:16.214261Z",
     "start_time": "2018-07-08T20:55:57.840818Z"
    }
   },
   "outputs": [],
   "source": [
    "from tensorflow.python.keras.utils.generic_utils import CustomObjectScope\n",
    "from tensorflow.python.keras.applications import mobilenet\n",
    "from tensorflow.python.keras.models import load_model\n",
    "with CustomObjectScope({'relu6': mobilenet.relu6,'DepthwiseConv2D': mobilenet.DepthwiseConv2D}):\n",
    "    model = load_model('dog_breed.h5')\n",
    "    converter = tf.contrib.lite.TocoConverter.from_keras_model_file(\"dog_breed.h5\")\n",
    "    \n",
    "    tflite_model = converter.convert()\n",
    "    open(\"dog_breed.tflite\", \"wb\").write(tflite_model)"
   ]
  },
  {
   "cell_type": "code",
   "execution_count": null,
   "metadata": {
    "ExecuteTime": {
     "end_time": "2018-07-08T20:59:04.817204Z",
     "start_time": "2018-07-08T20:58:59.868870Z"
    }
   },
   "outputs": [],
   "source": [
    "from keras.utils.generic_utils import CustomObjectScope\n",
    "\n",
    "with CustomObjectScope({'relu6': keras.applications.mobilenet.relu6,'DepthwiseConv2D': keras.applications.mobilenet.DepthwiseConv2D}):\n",
    "    model = keras.models.load_model('dog_breed.h5')\n"
   ]
  },
  {
   "cell_type": "markdown",
   "metadata": {},
   "source": [
    "Because the Keras model was trained on ImageNet, need to subtract the mean from RGB\n",
    "\n",
    "- red_bias=-123.68\n",
    "- green_bias=-116.78\n",
    "- blue_bias=-103.94"
   ]
  },
  {
   "cell_type": "code",
   "execution_count": null,
   "metadata": {
    "ExecuteTime": {
     "end_time": "2018-07-08T21:01:52.469669Z",
     "start_time": "2018-07-08T21:01:50.646514Z"
    }
   },
   "outputs": [],
   "source": [
    "scale = 1./255\n",
    "coreml_model = coremltools.converters.keras.convert(model,\n",
    "                                                    input_names = 'image',\n",
    "                                                    output_names = 'output',\n",
    "                                                    image_input_names = 'image',\n",
    "                                                    image_scale = scale,\n",
    "                                                    red_bias = -123.68 * scale,\n",
    "                                                    green_bias = -116.779 * scale,\n",
    "                                                    blue_bias = -103.939 * scale,\n",
    "                                                    class_labels=labels)\n",
    "\n",
    "coreml_model.author = 'Ian Lo'\n",
    "coreml_model.license = 'MIT'\n",
    "coreml_model.short_description = 'Model to classify 17 different Singaporean dishes'\n",
    "coreml_model.input_description['image'] = 'Images from camera in CVPixelBuffer'\n",
    "coreml_model.output_description['output'] = 'Predicted dishes'\n",
    "\n",
    "coreml_model.save('dog_breed.mlmodel')"
   ]
  },
  {
   "cell_type": "code",
   "execution_count": null,
   "metadata": {},
   "outputs": [],
   "source": []
  },
  {
   "cell_type": "code",
   "execution_count": null,
   "metadata": {},
   "outputs": [],
   "source": []
  },
  {
   "cell_type": "code",
   "execution_count": null,
   "metadata": {},
   "outputs": [],
   "source": []
  },
  {
   "cell_type": "code",
   "execution_count": null,
   "metadata": {},
   "outputs": [],
   "source": []
  },
  {
   "cell_type": "code",
   "execution_count": null,
   "metadata": {},
   "outputs": [],
   "source": []
  },
  {
   "cell_type": "code",
   "execution_count": null,
   "metadata": {
    "ExecuteTime": {
     "end_time": "2018-07-08T21:01:29.104272Z",
     "start_time": "2018-07-08T21:01:28.968221Z"
    }
   },
   "outputs": [],
   "source": [
    "!ls "
   ]
  },
  {
   "cell_type": "code",
   "execution_count": null,
   "metadata": {
    "ExecuteTime": {
     "end_time": "2018-07-08T20:22:49.135433Z",
     "start_time": "2018-07-08T20:22:49.104897Z"
    }
   },
   "outputs": [],
   "source": [
    "? converter.convert"
   ]
  },
  {
   "cell_type": "code",
   "execution_count": null,
   "metadata": {},
   "outputs": [],
   "source": []
  },
  {
   "cell_type": "code",
   "execution_count": null,
   "metadata": {},
   "outputs": [],
   "source": [
    "with CustomObjectScope({'relu6': keras.applications.mobilenet.relu6,'DepthwiseConv2D': keras.applications.mobilenet.DepthwiseConv2D}):\n",
    "    model =  load_model('dog_breed.h5')\n",
    "\n"
   ]
  },
  {
   "cell_type": "code",
   "execution_count": null,
   "metadata": {
    "ExecuteTime": {
     "end_time": "2018-07-08T20:10:02.767213Z",
     "start_time": "2018-07-08T20:10:02.738933Z"
    }
   },
   "outputs": [],
   "source": [
    "import tensorflow as tf\n",
    "\n",
    "converter = tf.contrib.lite.TocoConverter.from_keras_model_file(\"dog_breed.h5\")\n",
    "tflite_model = converter.convert()\n",
    "open(\"converted_model.tflite\", \"wb\").write(tflite_model)"
   ]
  },
  {
   "cell_type": "code",
   "execution_count": null,
   "metadata": {
    "ExecuteTime": {
     "end_time": "2018-07-08T19:36:03.404531Z",
     "start_time": "2018-07-08T19:36:03.396372Z"
    }
   },
   "outputs": [],
   "source": [
    "tf.__version__\n"
   ]
  },
  {
   "cell_type": "code",
   "execution_count": null,
   "metadata": {},
   "outputs": [],
   "source": []
  },
  {
   "cell_type": "code",
   "execution_count": null,
   "metadata": {},
   "outputs": [],
   "source": []
  },
  {
   "cell_type": "code",
   "execution_count": null,
   "metadata": {},
   "outputs": [],
   "source": []
  },
  {
   "cell_type": "code",
   "execution_count": null,
   "metadata": {},
   "outputs": [],
   "source": []
  },
  {
   "cell_type": "code",
   "execution_count": null,
   "metadata": {},
   "outputs": [],
   "source": []
  },
  {
   "cell_type": "code",
   "execution_count": null,
   "metadata": {
    "ExecuteTime": {
     "end_time": "2018-07-08T16:10:48.353090Z",
     "start_time": "2018-07-08T16:10:48.338690Z"
    }
   },
   "outputs": [],
   "source": [
    "import tensorflow as tf\n",
    "\n",
    "converter = tf.contrib.lite.TocoConverter.from_keras_model_file('dog_breed.h5')\n",
    "tflite_model = converter.convert()\n",
    "open(\"converted_model.tflite\", \"wb\").write(tflite_model)"
   ]
  },
  {
   "cell_type": "code",
   "execution_count": null,
   "metadata": {
    "ExecuteTime": {
     "end_time": "2018-07-08T16:11:18.694336Z",
     "start_time": "2018-07-08T16:11:18.690611Z"
    }
   },
   "outputs": [],
   "source": [
    "tf.__version__"
   ]
  },
  {
   "cell_type": "code",
   "execution_count": null,
   "metadata": {
    "ExecuteTime": {
     "end_time": "2018-07-08T16:10:07.682433Z",
     "start_time": "2018-07-08T16:10:04.595375Z"
    }
   },
   "outputs": [],
   "source": [
    "converter = tf.contrib.lite.TocoConverter.from_keras_model_file('dog_breed.h5')\n"
   ]
  },
  {
   "cell_type": "code",
   "execution_count": null,
   "metadata": {},
   "outputs": [],
   "source": []
  }
 ],
 "metadata": {
  "kernelspec": {
   "display_name": "Python [default]",
   "language": "python",
   "name": "python3"
  },
  "language_info": {
   "codemirror_mode": {
    "name": "ipython",
    "version": 3
   },
   "file_extension": ".py",
   "mimetype": "text/x-python",
   "name": "python",
   "nbconvert_exporter": "python",
   "pygments_lexer": "ipython3",
   "version": "3.6.5"
  }
 },
 "nbformat": 4,
 "nbformat_minor": 2
}
