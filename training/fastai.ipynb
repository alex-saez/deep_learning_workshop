{
 "cells": [
  {
   "cell_type": "markdown",
   "metadata": {},
   "source": [
    "# Imports"
   ]
  },
  {
   "cell_type": "markdown",
   "metadata": {},
   "source": [
    "FastAI makes prototyping deep learning models simple.     \n",
    "Hoever the library is not updated to pip frequnetly. "
   ]
  },
  {
   "cell_type": "code",
   "execution_count": 1,
   "metadata": {
    "ExecuteTime": {
     "end_time": "2018-07-20T19:25:20.671379Z",
     "start_time": "2018-07-20T19:25:20.667884Z"
    }
   },
   "outputs": [],
   "source": [
    "import sys\n",
    "sys.path.append(\"/home/ubuntu/fastai/\")"
   ]
  },
  {
   "cell_type": "code",
   "execution_count": 2,
   "metadata": {
    "ExecuteTime": {
     "end_time": "2018-07-20T19:25:21.911369Z",
     "start_time": "2018-07-20T19:25:20.673821Z"
    }
   },
   "outputs": [],
   "source": [
    "import fastai\n",
    "from fastai.imports import *\n",
    "from fastai.transforms import *\n",
    "from fastai.conv_learner import *\n",
    "from fastai.model import *\n",
    "from fastai.dataset import *\n",
    "from fastai.sgdr import *\n",
    "from fastai.plots import *\n",
    "from glob import glob\n",
    "import pandas as pd\n",
    "import helper\n",
    "from tqdm import tqdm\n",
    "import hashlib\n",
    "from urllib import request\n"
   ]
  },
  {
   "cell_type": "code",
   "execution_count": null,
   "metadata": {},
   "outputs": [],
   "source": []
  },
  {
   "cell_type": "code",
   "execution_count": 3,
   "metadata": {
    "ExecuteTime": {
     "end_time": "2018-07-20T19:25:21.939658Z",
     "start_time": "2018-07-20T19:25:21.913468Z"
    }
   },
   "outputs": [],
   "source": [
    "%matplotlib inline\n",
    "%load_ext autoreload\n",
    "%autoreload 2"
   ]
  },
  {
   "cell_type": "code",
   "execution_count": 4,
   "metadata": {
    "ExecuteTime": {
     "end_time": "2018-07-20T19:25:21.960257Z",
     "start_time": "2018-07-20T19:25:21.941593Z"
    }
   },
   "outputs": [],
   "source": [
    "# sorted by size of data\n",
    "#DATASET_NAME = \"dog_breed\"\n",
    "#DATASET_NAME = \"leaf\"\n",
    "#DATASET_NAME = \"food\"\n",
    "DATASET_NAME = \"bird\"\n",
    "#DATASET_NAME = \"fungus\"\n",
    "\n",
    "PATH = f\"data/{DATASET_NAME}\""
   ]
  },
  {
   "cell_type": "code",
   "execution_count": 5,
   "metadata": {
    "ExecuteTime": {
     "end_time": "2018-07-20T19:25:22.107466Z",
     "start_time": "2018-07-20T19:25:21.962507Z"
    }
   },
   "outputs": [
    {
     "name": "stdout",
     "output_type": "stream",
     "text": [
      "labels.csv  train  valid\r\n"
     ]
    }
   ],
   "source": [
    "!ls {PATH}"
   ]
  },
  {
   "cell_type": "markdown",
   "metadata": {},
   "source": [
    "# Train data"
   ]
  },
  {
   "cell_type": "markdown",
   "metadata": {},
   "source": [
    "transformations to apply on the image"
   ]
  },
  {
   "cell_type": "code",
   "execution_count": 6,
   "metadata": {
    "ExecuteTime": {
     "end_time": "2018-07-20T19:25:22.132736Z",
     "start_time": "2018-07-20T19:25:22.109766Z"
    }
   },
   "outputs": [
    {
     "data": {
      "text/plain": [
       "[<fastai.transforms.RandomRotate at 0x7faada86efd0>,\n",
       " <fastai.transforms.RandomLighting at 0x7faada87b080>,\n",
       " <fastai.transforms.RandomFlip at 0x7faada87b0b8>]"
      ]
     },
     "execution_count": 6,
     "metadata": {},
     "output_type": "execute_result"
    }
   ],
   "source": [
    "transforms_side_on"
   ]
  },
  {
   "cell_type": "code",
   "execution_count": 7,
   "metadata": {
    "ExecuteTime": {
     "end_time": "2018-07-20T19:25:22.153853Z",
     "start_time": "2018-07-20T19:25:22.135296Z"
    }
   },
   "outputs": [],
   "source": [
    "def get_data(sz, bs):\n",
    "    tfms = tfms_from_model(arch, sz, aug_tfms=transforms_side_on,\n",
    "                           max_zoom=1.1)\n",
    "    data = ImageClassifierData.from_paths(path=PATH\n",
    "            , num_workers=8\n",
    "            , tfms=tfms, bs=bs)\n",
    "    #return data.resize(sz, 'tmp')\n",
    "    return data if sz>300 else data.resize(340, 'tmp')"
   ]
  },
  {
   "cell_type": "code",
   "execution_count": 8,
   "metadata": {
    "ExecuteTime": {
     "end_time": "2018-07-20T19:25:22.172997Z",
     "start_time": "2018-07-20T19:25:22.156122Z"
    }
   },
   "outputs": [],
   "source": [
    "sz = 224 # size of image\n",
    "arch = resnet34 #model architecture..\n",
    "bs=128 # batch size; number of images to process at one time"
   ]
  },
  {
   "cell_type": "code",
   "execution_count": 9,
   "metadata": {
    "ExecuteTime": {
     "end_time": "2018-07-20T19:25:22.301833Z",
     "start_time": "2018-07-20T19:25:22.175103Z"
    }
   },
   "outputs": [],
   "source": [
    "! rm -rf {PATH}/tmp/"
   ]
  },
  {
   "cell_type": "markdown",
   "metadata": {},
   "source": [
    "** Train with precompute weights **       \n",
    "To speed up training, you can disable data augmentation.      \n",
    "When data augmentation is off, you can cache the precomputed weights"
   ]
  },
  {
   "cell_type": "code",
   "execution_count": 10,
   "metadata": {
    "ExecuteTime": {
     "end_time": "2018-07-20T19:26:27.587411Z",
     "start_time": "2018-07-20T19:25:22.303942Z"
    }
   },
   "outputs": [
    {
     "data": {
      "application/vnd.jupyter.widget-view+json": {
       "model_id": "9d85291ece444af5a74e797e92225e48",
       "version_major": 2,
       "version_minor": 0
      },
      "text/plain": [
       "HBox(children=(IntProgress(value=0, max=6), HTML(value='')))"
      ]
     },
     "metadata": {},
     "output_type": "display_data"
    },
    {
     "name": "stdout",
     "output_type": "stream",
     "text": [
      "                                                   \n",
      "100%|██████████| 22/22 [00:10<00:00,  2.08it/s]\n",
      "100%|██████████| 5/5 [00:02<00:00,  2.40it/s]\n"
     ]
    },
    {
     "data": {
      "application/vnd.jupyter.widget-view+json": {
       "model_id": "b945b70b2044454bba22e0fb81e708a0",
       "version_major": 2,
       "version_minor": 0
      },
      "text/plain": [
       "HBox(children=(IntProgress(value=0, description='Epoch', max=3), HTML(value='')))"
      ]
     },
     "metadata": {},
     "output_type": "display_data"
    },
    {
     "name": "stdout",
     "output_type": "stream",
     "text": [
      "epoch      trn_loss   val_loss   accuracy                \n",
      "    0      1.481328   0.565226   0.837743  \n",
      "    1      0.900188   0.27176    0.938272                 \n",
      "    2      0.643746   0.202109   0.957672                  \n",
      "\n"
     ]
    },
    {
     "data": {
      "text/plain": [
       "[array([0.20211]), 0.9576719576719577]"
      ]
     },
     "execution_count": 10,
     "metadata": {},
     "output_type": "execute_result"
    }
   ],
   "source": [
    "data = get_data(sz, bs)\n",
    "learn = ConvLearner.pretrained(arch, data, precompute=True)\n",
    "learn.fit(lrs=1e-2, n_cycle=3)"
   ]
  },
  {
   "cell_type": "markdown",
   "metadata": {},
   "source": [
    "** Train with data augmentation **"
   ]
  },
  {
   "cell_type": "code",
   "execution_count": 11,
   "metadata": {
    "ExecuteTime": {
     "end_time": "2018-07-20T19:27:27.012865Z",
     "start_time": "2018-07-20T19:26:27.589440Z"
    }
   },
   "outputs": [
    {
     "data": {
      "application/vnd.jupyter.widget-view+json": {
       "model_id": "486a662f9dc84975ac69079b4abd1898",
       "version_major": 2,
       "version_minor": 0
      },
      "text/plain": [
       "HBox(children=(IntProgress(value=0, description='Epoch', max=5), HTML(value='')))"
      ]
     },
     "metadata": {},
     "output_type": "display_data"
    },
    {
     "name": "stdout",
     "output_type": "stream",
     "text": [
      "epoch      trn_loss   val_loss   accuracy                  \n",
      "    0      0.395512   0.194808   0.954145  \n",
      "    1      0.362819   0.178513   0.957672                  \n",
      "    2      0.345759   0.166467   0.968254                  \n",
      "    3      0.329987   0.151121   0.971781                  \n",
      "    4      0.323441   0.143973   0.970018                  \n",
      "\n"
     ]
    },
    {
     "data": {
      "text/plain": [
       "[array([0.14397]), 0.9700176366843033]"
      ]
     },
     "execution_count": 11,
     "metadata": {},
     "output_type": "execute_result"
    }
   ],
   "source": [
    "learn.precompute = False\n",
    "learn.fit(lrs=1e-2, n_cycle=5, cycle_len=1)"
   ]
  },
  {
   "cell_type": "code",
   "execution_count": null,
   "metadata": {},
   "outputs": [],
   "source": []
  },
  {
   "cell_type": "markdown",
   "metadata": {},
   "source": [
    "** Train more with layer unfreezing **"
   ]
  },
  {
   "cell_type": "code",
   "execution_count": 12,
   "metadata": {
    "ExecuteTime": {
     "end_time": "2018-07-20T19:27:27.032467Z",
     "start_time": "2018-07-20T19:27:27.015440Z"
    }
   },
   "outputs": [],
   "source": [
    "#learn.unfreeze()"
   ]
  },
  {
   "cell_type": "code",
   "execution_count": 13,
   "metadata": {
    "ExecuteTime": {
     "end_time": "2018-07-20T19:27:27.053892Z",
     "start_time": "2018-07-20T19:27:27.034797Z"
    }
   },
   "outputs": [],
   "source": [
    "#lr=1e-2\n",
    "#lr=np.array([lr/18,lr/6,lr/2])"
   ]
  },
  {
   "cell_type": "code",
   "execution_count": 14,
   "metadata": {
    "ExecuteTime": {
     "end_time": "2018-07-20T19:27:27.074418Z",
     "start_time": "2018-07-20T19:27:27.056550Z"
    }
   },
   "outputs": [],
   "source": [
    "#learn.fit(lr, 3, cycle_len=1, cycle_mult=2)"
   ]
  },
  {
   "cell_type": "code",
   "execution_count": 15,
   "metadata": {
    "ExecuteTime": {
     "end_time": "2018-07-20T19:27:27.263210Z",
     "start_time": "2018-07-20T19:27:27.077246Z"
    }
   },
   "outputs": [
    {
     "name": "stdout",
     "output_type": "stream",
     "text": [
      "converted_model.tflite\t     graph.lite\t\t   model_benchmark\r\n",
      "data\t\t\t     helper.py\t\t   models\r\n",
      "dobgreed_mobilenet_tf.ipynb  keras.ipynb\t   prep.ipynb\r\n",
      "dobgreed_resnet.ipynb\t     keras_parallel.ipynb  __pycache__\r\n",
      "dog_breed.h5\t\t     keras_parallel.py\t   sector_labelling.ipynb\r\n",
      "dog_breed.mlmodel\t     labels.csv\t\t   tensorflow_export.ipynb\r\n",
      "dog_breed_tf.h5\t\t     labels.txt\t\t   tensorflow_tf_keras.ipynb\r\n",
      "downloads\t\t     MobileNet.ipynb\t   tmp\r\n",
      "fastai.ipynb\t\t     model\r\n"
     ]
    }
   ],
   "source": [
    "!ls"
   ]
  },
  {
   "cell_type": "markdown",
   "metadata": {},
   "source": [
    "** calculate accuracy with test time augmentation **"
   ]
  },
  {
   "cell_type": "code",
   "execution_count": 16,
   "metadata": {
    "ExecuteTime": {
     "end_time": "2018-07-20T19:27:38.804209Z",
     "start_time": "2018-07-20T19:27:27.265198Z"
    }
   },
   "outputs": [
    {
     "name": "stdout",
     "output_type": "stream",
     "text": [
      "                                             \r"
     ]
    },
    {
     "data": {
      "text/plain": [
       "(0.15604634314768415, 0.9700176366843033)"
      ]
     },
     "execution_count": 16,
     "metadata": {},
     "output_type": "execute_result"
    }
   ],
   "source": [
    "log_preds,y = learn.TTA()\n",
    "preds = np.mean(np.exp(log_preds),axis=0) # normalize accuracies to between 0 - 1\n",
    "(metrics.log_loss(y,preds), accuracy_np(preds,y))"
   ]
  },
  {
   "cell_type": "code",
   "execution_count": 17,
   "metadata": {
    "ExecuteTime": {
     "end_time": "2018-07-20T19:27:38.823350Z",
     "start_time": "2018-07-20T19:27:38.806197Z"
    }
   },
   "outputs": [],
   "source": [
    "predicted_class = np.argmax(preds, axis=1)\n",
    "confidence = np.max(preds, axis=1)"
   ]
  },
  {
   "cell_type": "code",
   "execution_count": 18,
   "metadata": {
    "ExecuteTime": {
     "end_time": "2018-07-20T19:27:38.843785Z",
     "start_time": "2018-07-20T19:27:38.825325Z"
    }
   },
   "outputs": [],
   "source": [
    "predictions_df = pd.DataFrame ({'actual': y, 'pred': predicted_class,'image':learn.data.val_ds.fnames,'conf':confidence})"
   ]
  },
  {
   "cell_type": "code",
   "execution_count": 19,
   "metadata": {
    "ExecuteTime": {
     "end_time": "2018-07-20T19:27:38.867649Z",
     "start_time": "2018-07-20T19:27:38.845818Z"
    }
   },
   "outputs": [],
   "source": [
    "predictions_df['actual_class'] = predictions_df['actual'].apply(lambda x : data.classes[x])\n",
    "predictions_df['pred_class'] = predictions_df['pred'].apply(lambda x : data.classes[x])"
   ]
  },
  {
   "cell_type": "code",
   "execution_count": 20,
   "metadata": {
    "ExecuteTime": {
     "end_time": "2018-07-20T19:27:38.968838Z",
     "start_time": "2018-07-20T19:27:38.870006Z"
    }
   },
   "outputs": [
    {
     "data": {
      "text/html": [
       "<div>\n",
       "<style scoped>\n",
       "    .dataframe tbody tr th:only-of-type {\n",
       "        vertical-align: middle;\n",
       "    }\n",
       "\n",
       "    .dataframe tbody tr th {\n",
       "        vertical-align: top;\n",
       "    }\n",
       "\n",
       "    .dataframe thead th {\n",
       "        text-align: right;\n",
       "    }\n",
       "</style>\n",
       "<table border=\"1\" class=\"dataframe\">\n",
       "  <thead>\n",
       "    <tr style=\"text-align: right;\">\n",
       "      <th></th>\n",
       "      <th>actual</th>\n",
       "      <th>pred</th>\n",
       "      <th>image</th>\n",
       "      <th>conf</th>\n",
       "      <th>actual_class</th>\n",
       "      <th>pred_class</th>\n",
       "    </tr>\n",
       "  </thead>\n",
       "  <tbody>\n",
       "    <tr>\n",
       "      <th>0</th>\n",
       "      <td>0</td>\n",
       "      <td>0</td>\n",
       "      <td>valid/american_goldfinch/c8f48de17c7c4819bdce8...</td>\n",
       "      <td>0.999421</td>\n",
       "      <td>american_goldfinch</td>\n",
       "      <td>american_goldfinch</td>\n",
       "    </tr>\n",
       "    <tr>\n",
       "      <th>1</th>\n",
       "      <td>0</td>\n",
       "      <td>0</td>\n",
       "      <td>valid/american_goldfinch/d0379c186b264b779c1e3...</td>\n",
       "      <td>0.677824</td>\n",
       "      <td>american_goldfinch</td>\n",
       "      <td>american_goldfinch</td>\n",
       "    </tr>\n",
       "    <tr>\n",
       "      <th>2</th>\n",
       "      <td>0</td>\n",
       "      <td>0</td>\n",
       "      <td>valid/american_goldfinch/5964700c5d114aaba4378...</td>\n",
       "      <td>0.967887</td>\n",
       "      <td>american_goldfinch</td>\n",
       "      <td>american_goldfinch</td>\n",
       "    </tr>\n",
       "    <tr>\n",
       "      <th>3</th>\n",
       "      <td>0</td>\n",
       "      <td>0</td>\n",
       "      <td>valid/american_goldfinch/7db5f010753e4262ae032...</td>\n",
       "      <td>0.997771</td>\n",
       "      <td>american_goldfinch</td>\n",
       "      <td>american_goldfinch</td>\n",
       "    </tr>\n",
       "    <tr>\n",
       "      <th>4</th>\n",
       "      <td>0</td>\n",
       "      <td>0</td>\n",
       "      <td>valid/american_goldfinch/f82c83f4e9f1440899a00...</td>\n",
       "      <td>0.922290</td>\n",
       "      <td>american_goldfinch</td>\n",
       "      <td>american_goldfinch</td>\n",
       "    </tr>\n",
       "  </tbody>\n",
       "</table>\n",
       "</div>"
      ],
      "text/plain": [
       "   actual  pred                                              image      conf  \\\n",
       "0       0     0  valid/american_goldfinch/c8f48de17c7c4819bdce8...  0.999421   \n",
       "1       0     0  valid/american_goldfinch/d0379c186b264b779c1e3...  0.677824   \n",
       "2       0     0  valid/american_goldfinch/5964700c5d114aaba4378...  0.967887   \n",
       "3       0     0  valid/american_goldfinch/7db5f010753e4262ae032...  0.997771   \n",
       "4       0     0  valid/american_goldfinch/f82c83f4e9f1440899a00...  0.922290   \n",
       "\n",
       "         actual_class          pred_class  \n",
       "0  american_goldfinch  american_goldfinch  \n",
       "1  american_goldfinch  american_goldfinch  \n",
       "2  american_goldfinch  american_goldfinch  \n",
       "3  american_goldfinch  american_goldfinch  \n",
       "4  american_goldfinch  american_goldfinch  "
      ]
     },
     "execution_count": 20,
     "metadata": {},
     "output_type": "execute_result"
    }
   ],
   "source": [
    "predictions_df.head()\n"
   ]
  },
  {
   "cell_type": "code",
   "execution_count": null,
   "metadata": {},
   "outputs": [],
   "source": []
  },
  {
   "cell_type": "code",
   "execution_count": 21,
   "metadata": {
    "ExecuteTime": {
     "end_time": "2018-07-20T19:27:38.989201Z",
     "start_time": "2018-07-20T19:27:38.970568Z"
    }
   },
   "outputs": [],
   "source": [
    "def predict_class(image_path:str):\n",
    "    \"\"\"\n",
    "    Given an image path (local filesystem), return most top predictions\n",
    "    \"\"\"\n",
    "    \n",
    "    # retrieve the transformation functions used by the DNN architecture\n",
    "    trn_tfms, val_tfms = tfms_from_model(arch, sz)\n",
    "    # read image and apply transforms\n",
    "    im = val_tfms(np.array(open_image(image_path)))\n",
    "\n",
    "    # get probability for all n classes\n",
    "    preds = learn.predict_array(im[None])\n",
    "    # get idx of most likely class\n",
    "    class_idx = np.argmax(preds)\n",
    "    \n",
    "    print(data.classes[class_idx],np.max(preds))\n",
    "    \n",
    "    return helper.get_top_n_predictions(np.exp(preds), data.classes)\n",
    "    #return np.argmax(preds)\n",
    "\n",
    "def predict_class_web(url,ext=\"jpg\"):\n",
    "    url_hash = hashlib.md5(url.encode('utf-8')).hexdigest()\n",
    "    file_name = f'data/downloaded/{url_hash}.{ext}'\n",
    "    f = open(file_name, 'wb')\n",
    "    f.write(request.urlopen(url).read())\n",
    "    f.close()\n",
    "    \n",
    "    return predict_class(file_name)"
   ]
  },
  {
   "cell_type": "code",
   "execution_count": 22,
   "metadata": {
    "ExecuteTime": {
     "end_time": "2018-07-20T19:27:39.174233Z",
     "start_time": "2018-07-20T19:27:38.991051Z"
    }
   },
   "outputs": [],
   "source": [
    "!mkdir -p data/downloaded"
   ]
  },
  {
   "cell_type": "code",
   "execution_count": 23,
   "metadata": {
    "ExecuteTime": {
     "end_time": "2018-07-20T19:27:39.909337Z",
     "start_time": "2018-07-20T19:27:39.176402Z"
    }
   },
   "outputs": [
    {
     "name": "stdout",
     "output_type": "stream",
     "text": [
      "mallard -0.07011652\n"
     ]
    },
    {
     "data": {
      "text/plain": [
       "[('mallard', 0.9322852),\n",
       " ('dark-eyed_junco', 0.021107208),\n",
       " ('red-tailed_hawk', 0.038156472),\n",
       " ('european_starling', 0.0028028283),\n",
       " ('red-winged_blackbird', 0.0020750735)]"
      ]
     },
     "execution_count": 23,
     "metadata": {},
     "output_type": "execute_result"
    }
   ],
   "source": [
    "predict_class_web(\"https://vetstreet.brightspotcdn.com/dims4/default/3407f3b/2147483647/thumbnail/645x380/quality/90/?url=https%3A%2F%2Fvetstreet-brightspot.s3.amazonaws.com%2Ffb%2F31%2F032a6aae436a9821acda211044fb%2Fbulldog-ap-rn4myi-645.jpg\")"
   ]
  },
  {
   "cell_type": "code",
   "execution_count": 24,
   "metadata": {
    "ExecuteTime": {
     "end_time": "2018-07-20T19:27:39.928279Z",
     "start_time": "2018-07-20T19:27:39.911027Z"
    }
   },
   "outputs": [
    {
     "data": {
      "text/plain": [
       "2"
      ]
     },
     "execution_count": 24,
     "metadata": {},
     "output_type": "execute_result"
    }
   ],
   "source": [
    "len(preds.shape)"
   ]
  },
  {
   "cell_type": "markdown",
   "metadata": {},
   "source": [
    "** Confusion Matrix**"
   ]
  },
  {
   "cell_type": "code",
   "execution_count": 25,
   "metadata": {
    "ExecuteTime": {
     "end_time": "2018-07-20T19:27:39.951870Z",
     "start_time": "2018-07-20T19:27:39.931324Z"
    }
   },
   "outputs": [],
   "source": [
    "labels = learn.data.classes\n",
    "cm = confusion_matrix(predictions_df['actual'], predictions_df['pred'])"
   ]
  },
  {
   "cell_type": "code",
   "execution_count": 26,
   "metadata": {
    "ExecuteTime": {
     "end_time": "2018-07-20T19:27:43.354057Z",
     "start_time": "2018-07-20T19:27:39.954072Z"
    }
   },
   "outputs": [
    {
     "data": {
      "image/png": "[encoded data removed]",
      "text/plain": [
       "<Figure size 3600x3600 with 2 Axes>"
      ]
     },
     "metadata": {},
     "output_type": "display_data"
    }
   ],
   "source": [
    "fig, ax = plt.subplots(figsize=(50, 50))\n",
    "_ = sns.heatmap(cm, ax=ax, yticklabels=labels, xticklabels=labels, robust=True)"
   ]
  },
  {
   "cell_type": "code",
   "execution_count": null,
   "metadata": {},
   "outputs": [],
   "source": []
  },
  {
   "cell_type": "code",
   "execution_count": null,
   "metadata": {},
   "outputs": [],
   "source": []
  },
  {
   "cell_type": "code",
   "execution_count": null,
   "metadata": {},
   "outputs": [],
   "source": []
  },
  {
   "cell_type": "code",
   "execution_count": 27,
   "metadata": {
    "ExecuteTime": {
     "end_time": "2018-07-20T19:27:43.375691Z",
     "start_time": "2018-07-20T19:27:43.356453Z"
    }
   },
   "outputs": [
    {
     "data": {
      "text/plain": [
       "{'resnet18': 'https://download.pytorch.org/models/resnet18-5c106cde.pth',\n",
       " 'resnet34': 'https://download.pytorch.org/models/resnet34-333f7ec4.pth',\n",
       " 'resnet50': 'https://download.pytorch.org/models/resnet50-19c8e357.pth',\n",
       " 'resnet101': 'https://download.pytorch.org/models/resnet101-5d3b4d8f.pth',\n",
       " 'resnet152': 'https://download.pytorch.org/models/resnet152-b121ed2d.pth'}"
      ]
     },
     "execution_count": 27,
     "metadata": {},
     "output_type": "execute_result"
    }
   ],
   "source": [
    "fastai.model.model_urls"
   ]
  },
  {
   "cell_type": "code",
   "execution_count": null,
   "metadata": {},
   "outputs": [],
   "source": []
  },
  {
   "cell_type": "code",
   "execution_count": null,
   "metadata": {},
   "outputs": [],
   "source": []
  }
 ],
 "metadata": {
  "kernelspec": {
   "display_name": "Python [default]",
   "language": "python",
   "name": "python3"
  },
  "language_info": {
   "codemirror_mode": {
    "name": "ipython",
    "version": 3
   },
   "file_extension": ".py",
   "mimetype": "text/x-python",
   "name": "python",
   "nbconvert_exporter": "python",
   "pygments_lexer": "ipython3",
   "version": "3.6.5"
  }
 },
 "nbformat": 4,
 "nbformat_minor": 2
}
