{
 "cells": [
  {
   "cell_type": "code",
   "execution_count": null,
   "metadata": {
    "ExecuteTime": {
     "end_time": "2018-07-13T01:36:12.612261Z",
     "start_time": "2018-07-13T01:36:12.608374Z"
    }
   },
   "outputs": [],
   "source": [
    "#!pip install tensorflow==1.9.0"
   ]
  },
  {
   "cell_type": "code",
   "execution_count": null,
   "metadata": {
    "ExecuteTime": {
     "end_time": "2018-07-13T01:37:05.231323Z",
     "start_time": "2018-07-13T01:37:04.302735Z"
    }
   },
   "outputs": [],
   "source": [
    "!pip freeze | grep tensorflow"
   ]
  },
  {
   "cell_type": "code",
   "execution_count": null,
   "metadata": {},
   "outputs": [],
   "source": [
    "# pip install tensorflow==1.9.0rc2 coremltools==0.8 tensorflowjs==0.5.0\n",
    "# pip install tf-nightly==1.10.0.dev20180707\n",
    "# nano /usr/local/anaconda3/envs/tf2/lib/python3.6/site-packages/tensorflow/contrib/lite/python/lite.py"
   ]
  },
  {
   "cell_type": "code",
   "execution_count": null,
   "metadata": {
    "ExecuteTime": {
     "end_time": "2018-07-08T20:54:30.369753Z",
     "start_time": "2018-07-08T20:54:30.367528Z"
    }
   },
   "outputs": [],
   "source": [
    "#pip install coremltools==0.8 Keras==2.1.6 imutils==0.4.6 opencv-python==3.4.1.15\n"
   ]
  },
  {
   "cell_type": "code",
   "execution_count": null,
   "metadata": {},
   "outputs": [],
   "source": []
  },
  {
   "cell_type": "code",
   "execution_count": null,
   "metadata": {
    "ExecuteTime": {
     "end_time": "2018-07-08T20:39:20.128588Z",
     "start_time": "2018-07-08T20:39:20.123862Z"
    }
   },
   "outputs": [],
   "source": [
    "#https://github.com/ianlokh/MobileNet-On-CoreML.git"
   ]
  },
  {
   "cell_type": "code",
   "execution_count": 1,
   "metadata": {
    "ExecuteTime": {
     "end_time": "2018-07-13T10:08:59.475253Z",
     "start_time": "2018-07-13T10:08:42.836000Z"
    }
   },
   "outputs": [
    {
     "name": "stderr",
     "output_type": "stream",
     "text": [
      "/usr/local/anaconda3/envs/tf2/lib/python3.6/site-packages/h5py/__init__.py:36: FutureWarning: Conversion of the second argument of issubdtype from `float` to `np.floating` is deprecated. In future, it will be treated as `np.float64 == np.dtype(float).type`.\n",
      "  from ._conv import register_converters as _register_converters\n",
      "Using TensorFlow backend.\n"
     ]
    }
   ],
   "source": [
    "import os\n",
    "import shutil\n",
    "import hashlib\n",
    "import urllib.request\n",
    "import numpy as np\n",
    "import json\n",
    "#import keras\n",
    "import tensorflow as tf\n",
    "#import coremltools\n",
    "import tensorflowjs as tfjs\n",
    "from tensorflow.python import keras as tf_keras"
   ]
  },
  {
   "cell_type": "code",
   "execution_count": null,
   "metadata": {
    "ExecuteTime": {
     "end_time": "2018-07-11T03:11:42.272715Z",
     "start_time": "2018-07-11T03:11:42.270002Z"
    }
   },
   "outputs": [],
   "source": [
    "\n",
    "#from keras import backend as K\n",
    "#from keras.models import load_model\n",
    "#from keras.utils.generic_utils import CustomObjectScope\n",
    "#from keras.applications.mobilenet import preprocess_input\n",
    "\n",
    "#from keras.preprocessing import image\n",
    "#from keras.applications.mobilenet import preprocess_input\n",
    "\n"
   ]
  },
  {
   "cell_type": "code",
   "execution_count": null,
   "metadata": {
    "ExecuteTime": {
     "end_time": "2018-07-08T16:07:49.349981Z",
     "start_time": "2018-07-08T16:07:47.491723Z"
    }
   },
   "outputs": [],
   "source": []
  },
  {
   "cell_type": "code",
   "execution_count": null,
   "metadata": {
    "ExecuteTime": {
     "end_time": "2018-07-08T21:05:49.538921Z",
     "start_time": "2018-07-08T21:05:49.402650Z"
    }
   },
   "outputs": [],
   "source": []
  },
  {
   "cell_type": "code",
   "execution_count": null,
   "metadata": {
    "ExecuteTime": {
     "end_time": "2018-07-11T03:11:42.400955Z",
     "start_time": "2018-07-11T03:11:42.274883Z"
    }
   },
   "outputs": [],
   "source": [
    "!ls"
   ]
  },
  {
   "cell_type": "code",
   "execution_count": 2,
   "metadata": {
    "ExecuteTime": {
     "end_time": "2018-07-13T10:09:05.436372Z",
     "start_time": "2018-07-13T10:09:05.430270Z"
    }
   },
   "outputs": [],
   "source": [
    "with open('labels.txt') as f:\n",
    "    labels = f.read().splitlines()"
   ]
  },
  {
   "cell_type": "code",
   "execution_count": 3,
   "metadata": {
    "ExecuteTime": {
     "end_time": "2018-07-13T10:09:07.267224Z",
     "start_time": "2018-07-13T10:09:07.261537Z"
    }
   },
   "outputs": [],
   "source": [
    "labels_dict = {idx:label for (idx,label) in enumerate(labels)}"
   ]
  },
  {
   "cell_type": "code",
   "execution_count": 4,
   "metadata": {
    "ExecuteTime": {
     "end_time": "2018-07-13T10:09:07.709080Z",
     "start_time": "2018-07-13T10:09:07.688458Z"
    },
    "collapsed": true
   },
   "outputs": [
    {
     "data": {
      "text/plain": [
       "{0: 'affenpinscher',\n",
       " 1: 'afghan_hound',\n",
       " 2: 'african_hunting_dog',\n",
       " 3: 'airedale',\n",
       " 4: 'american_staffordshire_terrier',\n",
       " 5: 'appenzeller',\n",
       " 6: 'australian_terrier',\n",
       " 7: 'basenji',\n",
       " 8: 'basset',\n",
       " 9: 'beagle',\n",
       " 10: 'bedlington_terrier',\n",
       " 11: 'bernese_mountain_dog',\n",
       " 12: 'black-and-tan_coonhound',\n",
       " 13: 'blenheim_spaniel',\n",
       " 14: 'bloodhound',\n",
       " 15: 'bluetick',\n",
       " 16: 'border_collie',\n",
       " 17: 'border_terrier',\n",
       " 18: 'borzoi',\n",
       " 19: 'boston_bull',\n",
       " 20: 'bouvier_des_flandres',\n",
       " 21: 'boxer',\n",
       " 22: 'brabancon_griffon',\n",
       " 23: 'briard',\n",
       " 24: 'brittany_spaniel',\n",
       " 25: 'bull_mastiff',\n",
       " 26: 'cairn',\n",
       " 27: 'cardigan',\n",
       " 28: 'chesapeake_bay_retriever',\n",
       " 29: 'chihuahua',\n",
       " 30: 'chow',\n",
       " 31: 'clumber',\n",
       " 32: 'cocker_spaniel',\n",
       " 33: 'collie',\n",
       " 34: 'curly-coated_retriever',\n",
       " 35: 'dandie_dinmont',\n",
       " 36: 'dhole',\n",
       " 37: 'dingo',\n",
       " 38: 'doberman',\n",
       " 39: 'english_foxhound',\n",
       " 40: 'english_setter',\n",
       " 41: 'english_springer',\n",
       " 42: 'entlebucher',\n",
       " 43: 'eskimo_dog',\n",
       " 44: 'flat-coated_retriever',\n",
       " 45: 'french_bulldog',\n",
       " 46: 'german_shepherd',\n",
       " 47: 'german_short-haired_pointer',\n",
       " 48: 'giant_schnauzer',\n",
       " 49: 'golden_retriever',\n",
       " 50: 'gordon_setter',\n",
       " 51: 'great_dane',\n",
       " 52: 'great_pyrenees',\n",
       " 53: 'greater_swiss_mountain_dog',\n",
       " 54: 'groenendael',\n",
       " 55: 'ibizan_hound',\n",
       " 56: 'irish_setter',\n",
       " 57: 'irish_terrier',\n",
       " 58: 'irish_water_spaniel',\n",
       " 59: 'irish_wolfhound',\n",
       " 60: 'italian_greyhound',\n",
       " 61: 'japanese_spaniel',\n",
       " 62: 'keeshond',\n",
       " 63: 'kelpie',\n",
       " 64: 'kerry_blue_terrier',\n",
       " 65: 'komondor',\n",
       " 66: 'kuvasz',\n",
       " 67: 'labrador_retriever',\n",
       " 68: 'lakeland_terrier',\n",
       " 69: 'leonberg',\n",
       " 70: 'lhasa',\n",
       " 71: 'malamute',\n",
       " 72: 'malinois',\n",
       " 73: 'maltese_dog',\n",
       " 74: 'mexican_hairless',\n",
       " 75: 'miniature_pinscher',\n",
       " 76: 'miniature_poodle',\n",
       " 77: 'miniature_schnauzer',\n",
       " 78: 'newfoundland',\n",
       " 79: 'norfolk_terrier',\n",
       " 80: 'norwegian_elkhound',\n",
       " 81: 'norwich_terrier',\n",
       " 82: 'old_english_sheepdog',\n",
       " 83: 'otterhound',\n",
       " 84: 'papillon',\n",
       " 85: 'pekinese',\n",
       " 86: 'pembroke',\n",
       " 87: 'pomeranian',\n",
       " 88: 'pug',\n",
       " 89: 'redbone',\n",
       " 90: 'rhodesian_ridgeback',\n",
       " 91: 'rottweiler',\n",
       " 92: 'saint_bernard',\n",
       " 93: 'saluki',\n",
       " 94: 'samoyed',\n",
       " 95: 'schipperke',\n",
       " 96: 'scotch_terrier',\n",
       " 97: 'scottish_deerhound',\n",
       " 98: 'sealyham_terrier',\n",
       " 99: 'shetland_sheepdog',\n",
       " 100: 'shih-tzu',\n",
       " 101: 'siberian_husky',\n",
       " 102: 'silky_terrier',\n",
       " 103: 'soft-coated_wheaten_terrier',\n",
       " 104: 'staffordshire_bullterrier',\n",
       " 105: 'standard_poodle',\n",
       " 106: 'standard_schnauzer',\n",
       " 107: 'sussex_spaniel',\n",
       " 108: 'tibetan_mastiff',\n",
       " 109: 'tibetan_terrier',\n",
       " 110: 'toy_poodle',\n",
       " 111: 'toy_terrier',\n",
       " 112: 'vizsla',\n",
       " 113: 'walker_hound',\n",
       " 114: 'weimaraner',\n",
       " 115: 'welsh_springer_spaniel',\n",
       " 116: 'west_highland_white_terrier',\n",
       " 117: 'whippet',\n",
       " 118: 'wire-haired_fox_terrier',\n",
       " 119: 'yorkshire_terrier'}"
      ]
     },
     "execution_count": 4,
     "metadata": {},
     "output_type": "execute_result"
    }
   ],
   "source": [
    "labels_dict"
   ]
  },
  {
   "cell_type": "code",
   "execution_count": null,
   "metadata": {
    "ExecuteTime": {
     "end_time": "2018-07-13T01:37:53.469116Z",
     "start_time": "2018-07-13T01:37:53.465267Z"
    }
   },
   "outputs": [],
   "source": [
    "json.dumps(labels_dict)"
   ]
  },
  {
   "cell_type": "code",
   "execution_count": 5,
   "metadata": {
    "ExecuteTime": {
     "end_time": "2018-07-13T10:09:12.129348Z",
     "start_time": "2018-07-13T10:09:12.122331Z"
    }
   },
   "outputs": [],
   "source": [
    "import json\n",
    "with open('label_classes.json', 'w') as fp:\n",
    "    json.dump(labels_dict, fp, indent=4 )"
   ]
  },
  {
   "cell_type": "code",
   "execution_count": null,
   "metadata": {},
   "outputs": [],
   "source": []
  },
  {
   "cell_type": "code",
   "execution_count": 6,
   "metadata": {
    "ExecuteTime": {
     "end_time": "2018-07-13T10:09:17.023270Z",
     "start_time": "2018-07-13T10:09:17.012023Z"
    }
   },
   "outputs": [],
   "source": [
    "def download_image(url,ext=\".jpg\"):\n",
    "    url_hash = hashlib.md5(url.encode('utf-8')).hexdigest()\n",
    "    file_path = f'{DOWNLOAD_FOLDER}/{url_hash}.{ext}'\n",
    "    \n",
    "    urllib.request.urlretrieve(url,file_path)\n",
    "\n",
    "    img = tf_keras.preprocessing.image.load_img(file_path, target_size=(224, 224))\n",
    "    return img\n",
    "\n",
    "def predict(im, model, labels,n=5):\n",
    "    out = model.predict(im[None,:,:,:]).flatten()\n",
    "    top_indices = out.argsort()[::-1][:n]\n",
    "    \n",
    "    top_probability = out[top_indices]\n",
    "    top_labels = np.array(labels)[top_indices]\n",
    "    \n",
    "    res = list(zip(top_labels,top_probability))\n",
    "    \n",
    "    return res\n",
    "\n",
    "def get_top_n_predictions(preds,labels,n=5):\n",
    "    if len(preds.shape) >1:\n",
    "        preds = preds.flatten()\n",
    "    top_idxs = (-preds).argsort()[:n]\n",
    "    res =[]\n",
    "    for idx in top_idxs:\n",
    "        res.append((labels[idx],preds[idx] ))\n",
    "    return res"
   ]
  },
  {
   "cell_type": "code",
   "execution_count": 7,
   "metadata": {
    "ExecuteTime": {
     "end_time": "2018-07-13T10:09:28.410958Z",
     "start_time": "2018-07-13T10:09:28.407418Z"
    }
   },
   "outputs": [],
   "source": [
    "def load_keras_using_tf(model_path):\n",
    "    custom_objects={'relu6': tf_keras.applications.mobilenet.relu6,'DepthwiseConv2D': tf_keras.applications.mobilenet.DepthwiseConv2D}\n",
    "    model = tf_keras.models.load_model(model_path,custom_objects=custom_objects)\n",
    "    return model"
   ]
  },
  {
   "cell_type": "code",
   "execution_count": 8,
   "metadata": {
    "ExecuteTime": {
     "end_time": "2018-07-13T10:09:36.543499Z",
     "start_time": "2018-07-13T10:09:30.815261Z"
    }
   },
   "outputs": [],
   "source": [
    "tf_keras_model = load_keras_using_tf('dog_breed_tf.h5')"
   ]
  },
  {
   "cell_type": "code",
   "execution_count": 9,
   "metadata": {
    "ExecuteTime": {
     "end_time": "2018-07-13T10:09:38.396506Z",
     "start_time": "2018-07-13T10:09:38.189504Z"
    }
   },
   "outputs": [],
   "source": [
    "DOWNLOAD_FOLDER='downloads'\n",
    "img_url = \"https://s3.amazonaws.com/cdn-origin-etr.akc.org/wp-content/uploads/2017/11/12231410/Labrador-Retriever-On-White-01.jpg\"\n",
    "img = download_image(img_url)\n",
    "img_preprocessed = tf_keras.applications.mobilenet.preprocess_input (\n",
    "        tf_keras.preprocessing.image.img_to_array(img)\n",
    ")\n"
   ]
  },
  {
   "cell_type": "code",
   "execution_count": 10,
   "metadata": {
    "ExecuteTime": {
     "end_time": "2018-07-13T10:09:39.425657Z",
     "start_time": "2018-07-13T10:09:38.578319Z"
    }
   },
   "outputs": [
    {
     "data": {
      "text/plain": [
       "[('labrador_retriever', 0.64543176),\n",
       " ('golden_retriever', 0.108133145),\n",
       " ('rhodesian_ridgeback', 0.046176903),\n",
       " ('great_dane', 0.041474782),\n",
       " ('beagle', 0.030086135)]"
      ]
     },
     "execution_count": 10,
     "metadata": {},
     "output_type": "execute_result"
    }
   ],
   "source": [
    "predict(im=img_preprocessed ,model=tf_keras_model, labels=labels)"
   ]
  },
  {
   "cell_type": "code",
   "execution_count": null,
   "metadata": {},
   "outputs": [],
   "source": []
  },
  {
   "cell_type": "code",
   "execution_count": null,
   "metadata": {},
   "outputs": [],
   "source": []
  },
  {
   "cell_type": "markdown",
   "metadata": {},
   "source": [
    "# convert tflite"
   ]
  },
  {
   "cell_type": "code",
   "execution_count": null,
   "metadata": {
    "ExecuteTime": {
     "end_time": "2018-07-11T03:32:51.706137Z",
     "start_time": "2018-07-11T03:32:51.676758Z"
    }
   },
   "outputs": [],
   "source": [
    "?tf.contrib.lite.TocoConverter.from_keras_model_file"
   ]
  },
  {
   "cell_type": "code",
   "execution_count": null,
   "metadata": {
    "ExecuteTime": {
     "end_time": "2018-07-13T01:54:49.828910Z",
     "start_time": "2018-07-13T01:54:49.666846Z"
    }
   },
   "outputs": [],
   "source": [
    "!ls"
   ]
  },
  {
   "cell_type": "code",
   "execution_count": null,
   "metadata": {},
   "outputs": [],
   "source": []
  },
  {
   "cell_type": "code",
   "execution_count": 14,
   "metadata": {
    "ExecuteTime": {
     "end_time": "2018-07-13T10:34:18.544845Z",
     "start_time": "2018-07-13T10:34:09.333344Z"
    }
   },
   "outputs": [
    {
     "name": "stdout",
     "output_type": "stream",
     "text": [
      "INFO:tensorflow:Froze 137 variables.\n",
      "INFO:tensorflow:Converted 137 variables to const ops.\n"
     ]
    }
   ],
   "source": [
    "with tf_keras.utils.generic_utils.CustomObjectScope({'relu6': tf_keras.applications.mobilenet.relu6,'DepthwiseConv2D': tf_keras.applications.mobilenet.DepthwiseConv2D}):\n",
    "    converter = tf.contrib.lite.TocoConverter.from_keras_model_file(\"dog_breed_tf.h5\")\n",
    "    tflite_model = converter.convert()\n",
    "    open(\"graph.lite\", \"wb\").write(tflite_model)"
   ]
  },
  {
   "cell_type": "code",
   "execution_count": null,
   "metadata": {
    "ExecuteTime": {
     "end_time": "2018-07-13T01:41:12.169611Z",
     "start_time": "2018-07-13T01:41:11.677978Z"
    }
   },
   "outputs": [],
   "source": [
    "?tflite_model"
   ]
  },
  {
   "cell_type": "code",
   "execution_count": null,
   "metadata": {
    "ExecuteTime": {
     "end_time": "2018-07-13T01:42:06.180787Z",
     "start_time": "2018-07-13T01:42:06.043427Z"
    }
   },
   "outputs": [],
   "source": [
    "!pwd"
   ]
  },
  {
   "cell_type": "code",
   "execution_count": null,
   "metadata": {},
   "outputs": [],
   "source": []
  },
  {
   "cell_type": "code",
   "execution_count": null,
   "metadata": {
    "ExecuteTime": {
     "end_time": "2018-07-13T01:38:30.221946Z",
     "start_time": "2018-07-13T01:38:30.094257Z"
    }
   },
   "outputs": [],
   "source": [
    "!ls"
   ]
  },
  {
   "cell_type": "code",
   "execution_count": null,
   "metadata": {
    "ExecuteTime": {
     "end_time": "2018-07-13T01:39:01.494606Z",
     "start_time": "2018-07-13T01:39:01.462369Z"
    }
   },
   "outputs": [],
   "source": [
    "?tf.contrib.lite.TocoConverter.from_keras_model_file\n"
   ]
  },
  {
   "cell_type": "code",
   "execution_count": null,
   "metadata": {},
   "outputs": [],
   "source": []
  },
  {
   "cell_type": "code",
   "execution_count": null,
   "metadata": {},
   "outputs": [],
   "source": []
  },
  {
   "cell_type": "code",
   "execution_count": null,
   "metadata": {},
   "outputs": [],
   "source": []
  },
  {
   "cell_type": "code",
   "execution_count": null,
   "metadata": {
    "ExecuteTime": {
     "end_time": "2018-07-11T11:36:26.119074Z",
     "start_time": "2018-07-11T11:36:18.609369Z"
    }
   },
   "outputs": [],
   "source": [
    "with tf_keras.utils.generic_utils.CustomObjectScope({'relu6': tf_keras.applications.mobilenet.relu6,'DepthwiseConv2D': tf_keras.applications.mobilenet.DepthwiseConv2D}):\n",
    "    converter = tf.contrib.lite.TocoConverter.from_keras_model_file(\"dog_breed_tf.h5\")\n",
    "    \n",
    "    tflite_model = converter.convert()\n",
    "    open(\"dog_breed.tflite\", \"wb\").write(tflite_model)"
   ]
  },
  {
   "cell_type": "code",
   "execution_count": null,
   "metadata": {},
   "outputs": [],
   "source": []
  },
  {
   "cell_type": "code",
   "execution_count": null,
   "metadata": {},
   "outputs": [],
   "source": []
  },
  {
   "cell_type": "code",
   "execution_count": null,
   "metadata": {},
   "outputs": [],
   "source": []
  },
  {
   "cell_type": "code",
   "execution_count": null,
   "metadata": {},
   "outputs": [],
   "source": []
  },
  {
   "cell_type": "code",
   "execution_count": null,
   "metadata": {
    "ExecuteTime": {
     "end_time": "2018-07-08T20:55:52.070080Z",
     "start_time": "2018-07-08T20:55:50.196529Z"
    }
   },
   "outputs": [],
   "source": [
    "import tensorflow as tf\n",
    "from tensorflow.keras.applications import mobilenet"
   ]
  },
  {
   "cell_type": "code",
   "execution_count": null,
   "metadata": {
    "ExecuteTime": {
     "end_time": "2018-07-08T20:55:52.618672Z",
     "start_time": "2018-07-08T20:55:52.506970Z"
    }
   },
   "outputs": [],
   "source": []
  },
  {
   "cell_type": "code",
   "execution_count": null,
   "metadata": {
    "ExecuteTime": {
     "end_time": "2018-07-08T20:56:16.214261Z",
     "start_time": "2018-07-08T20:55:57.840818Z"
    }
   },
   "outputs": [],
   "source": [
    "from tensorflow.python.keras.utils.generic_utils import CustomObjectScope\n",
    "from tensorflow.python.keras.applications import mobilenet\n",
    "from tensorflow.python.keras.models import load_model\n",
    "with CustomObjectScope({'relu6': mobilenet.relu6,'DepthwiseConv2D': mobilenet.DepthwiseConv2D}):\n",
    "    model = load_model('dog_breed.h5')\n",
    "    converter = tf.contrib.lite.TocoConverter.from_keras_model_file(\"dog_breed.h5\")\n",
    "    \n",
    "    tflite_model = converter.convert()\n",
    "    open(\"dog_breed.tflite\", \"wb\").write(tflite_model)"
   ]
  },
  {
   "cell_type": "code",
   "execution_count": null,
   "metadata": {
    "ExecuteTime": {
     "end_time": "2018-07-08T20:59:04.817204Z",
     "start_time": "2018-07-08T20:58:59.868870Z"
    }
   },
   "outputs": [],
   "source": [
    "from keras.utils.generic_utils import CustomObjectScope\n",
    "\n",
    "with CustomObjectScope({'relu6': keras.applications.mobilenet.relu6,'DepthwiseConv2D': keras.applications.mobilenet.DepthwiseConv2D}):\n",
    "    model = keras.models.load_model('dog_breed.h5')\n"
   ]
  },
  {
   "cell_type": "markdown",
   "metadata": {},
   "source": [
    "Because the Keras model was trained on ImageNet, need to subtract the mean from RGB\n",
    "\n",
    "- red_bias=-123.68\n",
    "- green_bias=-116.78\n",
    "- blue_bias=-103.94"
   ]
  },
  {
   "cell_type": "code",
   "execution_count": null,
   "metadata": {
    "ExecuteTime": {
     "end_time": "2018-07-08T21:01:52.469669Z",
     "start_time": "2018-07-08T21:01:50.646514Z"
    }
   },
   "outputs": [],
   "source": [
    "scale = 1./255\n",
    "coreml_model = coremltools.converters.keras.convert(model,\n",
    "                                                    input_names = 'image',\n",
    "                                                    output_names = 'output',\n",
    "                                                    image_input_names = 'image',\n",
    "                                                    image_scale = scale,\n",
    "                                                    red_bias = -123.68 * scale,\n",
    "                                                    green_bias = -116.779 * scale,\n",
    "                                                    blue_bias = -103.939 * scale,\n",
    "                                                    class_labels=labels)\n",
    "\n",
    "coreml_model.author = 'Ian Lo'\n",
    "coreml_model.license = 'MIT'\n",
    "coreml_model.short_description = 'Model to classify 17 different Singaporean dishes'\n",
    "coreml_model.input_description['image'] = 'Images from camera in CVPixelBuffer'\n",
    "coreml_model.output_description['output'] = 'Predicted dishes'\n",
    "\n",
    "coreml_model.save('dog_breed.mlmodel')"
   ]
  },
  {
   "cell_type": "code",
   "execution_count": null,
   "metadata": {},
   "outputs": [],
   "source": []
  },
  {
   "cell_type": "code",
   "execution_count": null,
   "metadata": {},
   "outputs": [],
   "source": []
  },
  {
   "cell_type": "code",
   "execution_count": null,
   "metadata": {},
   "outputs": [],
   "source": []
  },
  {
   "cell_type": "code",
   "execution_count": null,
   "metadata": {},
   "outputs": [],
   "source": []
  },
  {
   "cell_type": "code",
   "execution_count": null,
   "metadata": {},
   "outputs": [],
   "source": []
  },
  {
   "cell_type": "code",
   "execution_count": null,
   "metadata": {
    "ExecuteTime": {
     "end_time": "2018-07-08T21:01:29.104272Z",
     "start_time": "2018-07-08T21:01:28.968221Z"
    }
   },
   "outputs": [],
   "source": [
    "!ls "
   ]
  },
  {
   "cell_type": "code",
   "execution_count": null,
   "metadata": {
    "ExecuteTime": {
     "end_time": "2018-07-08T20:22:49.135433Z",
     "start_time": "2018-07-08T20:22:49.104897Z"
    }
   },
   "outputs": [],
   "source": [
    "? converter.convert"
   ]
  },
  {
   "cell_type": "code",
   "execution_count": null,
   "metadata": {},
   "outputs": [],
   "source": []
  },
  {
   "cell_type": "code",
   "execution_count": null,
   "metadata": {},
   "outputs": [],
   "source": [
    "with CustomObjectScope({'relu6': keras.applications.mobilenet.relu6,'DepthwiseConv2D': keras.applications.mobilenet.DepthwiseConv2D}):\n",
    "    model =  load_model('dog_breed.h5')\n",
    "\n"
   ]
  },
  {
   "cell_type": "code",
   "execution_count": null,
   "metadata": {
    "ExecuteTime": {
     "end_time": "2018-07-11T03:33:38.306082Z",
     "start_time": "2018-07-11T03:33:38.271599Z"
    }
   },
   "outputs": [],
   "source": [
    "import tensorflow as tf\n",
    "\n",
    "converter = tf.contrib.lite.TocoConverter.from_keras_model_file(\"dog_breed.h5\")\n",
    "tflite_model = converter.convert()\n",
    "open(\"converted_model.tflite\", \"wb\").write(tflite_model)"
   ]
  },
  {
   "cell_type": "code",
   "execution_count": null,
   "metadata": {
    "ExecuteTime": {
     "end_time": "2018-07-08T19:36:03.404531Z",
     "start_time": "2018-07-08T19:36:03.396372Z"
    }
   },
   "outputs": [],
   "source": [
    "tf.__version__\n"
   ]
  },
  {
   "cell_type": "code",
   "execution_count": null,
   "metadata": {},
   "outputs": [],
   "source": []
  },
  {
   "cell_type": "code",
   "execution_count": null,
   "metadata": {},
   "outputs": [],
   "source": []
  },
  {
   "cell_type": "code",
   "execution_count": null,
   "metadata": {},
   "outputs": [],
   "source": []
  },
  {
   "cell_type": "code",
   "execution_count": null,
   "metadata": {},
   "outputs": [],
   "source": []
  },
  {
   "cell_type": "code",
   "execution_count": null,
   "metadata": {},
   "outputs": [],
   "source": []
  },
  {
   "cell_type": "code",
   "execution_count": null,
   "metadata": {},
   "outputs": [],
   "source": []
  }
 ],
 "metadata": {
  "kernelspec": {
   "display_name": "Python [default]",
   "language": "python",
   "name": "python3"
  },
  "language_info": {
   "codemirror_mode": {
    "name": "ipython",
    "version": 3
   },
   "file_extension": ".py",
   "mimetype": "text/x-python",
   "name": "python",
   "nbconvert_exporter": "python",
   "pygments_lexer": "ipython3",
   "version": "3.6.5"
  }
 },
 "nbformat": 4,
 "nbformat_minor": 2
}
